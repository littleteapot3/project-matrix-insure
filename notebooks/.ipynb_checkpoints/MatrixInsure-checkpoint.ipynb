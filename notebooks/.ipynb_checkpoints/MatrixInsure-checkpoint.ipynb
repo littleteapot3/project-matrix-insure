{
 "cells": [
  {
   "cell_type": "markdown",
   "metadata": {},
   "source": [
    "# Statement"
   ]
  },
  {
   "cell_type": "markdown",
   "metadata": {},
   "source": [
    "The Sure Tomorrow insurance company wants to solve several tasks with the help of Machine Learning and you are asked to evaluate that possibility.\n",
    "\n",
    "- Task 1: Find customers who are similar to a given customer. This will help the company's agents with marketing.\n",
    "- Task 2: Predict whether a new customer is likely to receive an insurance benefit. Can a prediction model do better than a dummy model?\n",
    "- Task 3: Predict the number of insurance benefits a new customer is likely to receive using a linear regression model.\n",
    "- Task 4: Protect clients' personal data without breaking the model from the previous task. It's necessary to develop a data transformation algorithm that would make it hard to recover personal information if the data fell into the wrong hands. This is called data masking, or data obfuscation. But the data should be protected in such a way that the quality of machine learning models doesn't suffer. You don't need to pick the best model, just prove that the algorithm works correctly."
   ]
  },
  {
   "cell_type": "markdown",
   "metadata": {},
   "source": [
    "# Data Preprocessing & Exploration\n",
    "\n",
    "## Initialization"
   ]
  },
  {
   "cell_type": "code",
   "execution_count": 1,
   "metadata": {},
   "outputs": [],
   "source": [
    "import numpy as np\n",
    "import pandas as pd\n",
    "\n",
    "import seaborn as sns\n",
    "import matplotlib.pyplot as plt\n",
    "\n",
    "from sklearn.preprocessing import MaxAbsScaler\n",
    "import sklearn.linear_model\n",
    "from sklearn.metrics import mean_squared_error, root_mean_squared_error, r2_score\n",
    "from sklearn.neighbors import NearestNeighbors, KNeighborsClassifier\n",
    "import sklearn.preprocessing\n",
    "from sklearn.utils import resample\n",
    "\n",
    "from sklearn.model_selection import train_test_split\n",
    "\n",
    "import math\n",
    "from sklearn.linear_model import LinearRegression\n",
    "from sklearn.linear_model import Ridge\n",
    "from sklearn.linear_model import Lasso\n",
    "\n",
    "from IPython.display import display"
   ]
  },
  {
   "cell_type": "markdown",
   "metadata": {},
   "source": [
    "## Load Data"
   ]
  },
  {
   "cell_type": "markdown",
   "metadata": {},
   "source": [
    "Load data and conduct a basic check that it's free from obvious issues."
   ]
  },
  {
   "cell_type": "code",
   "execution_count": 2,
   "metadata": {},
   "outputs": [
    {
     "name": "stdout",
     "output_type": "stream",
     "text": [
      "File loaded data locally\n"
     ]
    }
   ],
   "source": [
    "try: \n",
    "    df = pd.read_csv('../datasets/insurance_us.csv')\n",
    "    print(\"File loaded data locally\")\n",
    "except FileNotFoundError: \n",
    "    df = pd.read_csv('https://practicum-content.s3.us-west-1.amazonaws.com/datasets/insurance_us.csv')\n",
    "    print(\"File loaded from the server\")"
   ]
  },
  {
   "cell_type": "markdown",
   "metadata": {},
   "source": [
    "We rename the colums to make the code look more consistent with its style."
   ]
  },
  {
   "cell_type": "code",
   "execution_count": 3,
   "metadata": {},
   "outputs": [],
   "source": [
    "df = df.rename(columns={'Gender': 'gender', 'Age': 'age', 'Salary': 'income', 'Family members': 'family_members', 'Insurance benefits': 'insurance_benefits'})"
   ]
  },
  {
   "cell_type": "code",
   "execution_count": 4,
   "metadata": {
    "scrolled": false
   },
   "outputs": [
    {
     "data": {
      "text/html": [
       "<div>\n",
       "<style scoped>\n",
       "    .dataframe tbody tr th:only-of-type {\n",
       "        vertical-align: middle;\n",
       "    }\n",
       "\n",
       "    .dataframe tbody tr th {\n",
       "        vertical-align: top;\n",
       "    }\n",
       "\n",
       "    .dataframe thead th {\n",
       "        text-align: right;\n",
       "    }\n",
       "</style>\n",
       "<table border=\"1\" class=\"dataframe\">\n",
       "  <thead>\n",
       "    <tr style=\"text-align: right;\">\n",
       "      <th></th>\n",
       "      <th>gender</th>\n",
       "      <th>age</th>\n",
       "      <th>income</th>\n",
       "      <th>family_members</th>\n",
       "      <th>insurance_benefits</th>\n",
       "    </tr>\n",
       "  </thead>\n",
       "  <tbody>\n",
       "    <tr>\n",
       "      <th>3983</th>\n",
       "      <td>1</td>\n",
       "      <td>27.0</td>\n",
       "      <td>29100.0</td>\n",
       "      <td>1</td>\n",
       "      <td>0</td>\n",
       "    </tr>\n",
       "    <tr>\n",
       "      <th>3716</th>\n",
       "      <td>1</td>\n",
       "      <td>24.0</td>\n",
       "      <td>40600.0</td>\n",
       "      <td>3</td>\n",
       "      <td>0</td>\n",
       "    </tr>\n",
       "    <tr>\n",
       "      <th>2524</th>\n",
       "      <td>1</td>\n",
       "      <td>41.0</td>\n",
       "      <td>34100.0</td>\n",
       "      <td>0</td>\n",
       "      <td>0</td>\n",
       "    </tr>\n",
       "    <tr>\n",
       "      <th>823</th>\n",
       "      <td>1</td>\n",
       "      <td>33.0</td>\n",
       "      <td>47900.0</td>\n",
       "      <td>3</td>\n",
       "      <td>0</td>\n",
       "    </tr>\n",
       "    <tr>\n",
       "      <th>2013</th>\n",
       "      <td>1</td>\n",
       "      <td>28.0</td>\n",
       "      <td>49200.0</td>\n",
       "      <td>0</td>\n",
       "      <td>0</td>\n",
       "    </tr>\n",
       "    <tr>\n",
       "      <th>3962</th>\n",
       "      <td>0</td>\n",
       "      <td>41.0</td>\n",
       "      <td>21800.0</td>\n",
       "      <td>1</td>\n",
       "      <td>0</td>\n",
       "    </tr>\n",
       "    <tr>\n",
       "      <th>2834</th>\n",
       "      <td>0</td>\n",
       "      <td>53.0</td>\n",
       "      <td>23000.0</td>\n",
       "      <td>2</td>\n",
       "      <td>2</td>\n",
       "    </tr>\n",
       "    <tr>\n",
       "      <th>4747</th>\n",
       "      <td>1</td>\n",
       "      <td>46.0</td>\n",
       "      <td>42000.0</td>\n",
       "      <td>2</td>\n",
       "      <td>1</td>\n",
       "    </tr>\n",
       "    <tr>\n",
       "      <th>4695</th>\n",
       "      <td>1</td>\n",
       "      <td>34.0</td>\n",
       "      <td>26000.0</td>\n",
       "      <td>2</td>\n",
       "      <td>0</td>\n",
       "    </tr>\n",
       "    <tr>\n",
       "      <th>2927</th>\n",
       "      <td>0</td>\n",
       "      <td>41.0</td>\n",
       "      <td>33800.0</td>\n",
       "      <td>2</td>\n",
       "      <td>0</td>\n",
       "    </tr>\n",
       "  </tbody>\n",
       "</table>\n",
       "</div>"
      ],
      "text/plain": [
       "      gender   age   income  family_members  insurance_benefits\n",
       "3983       1  27.0  29100.0               1                   0\n",
       "3716       1  24.0  40600.0               3                   0\n",
       "2524       1  41.0  34100.0               0                   0\n",
       "823        1  33.0  47900.0               3                   0\n",
       "2013       1  28.0  49200.0               0                   0\n",
       "3962       0  41.0  21800.0               1                   0\n",
       "2834       0  53.0  23000.0               2                   2\n",
       "4747       1  46.0  42000.0               2                   1\n",
       "4695       1  34.0  26000.0               2                   0\n",
       "2927       0  41.0  33800.0               2                   0"
      ]
     },
     "execution_count": 4,
     "metadata": {},
     "output_type": "execute_result"
    }
   ],
   "source": [
    "df.sample(10)"
   ]
  },
  {
   "cell_type": "code",
   "execution_count": 5,
   "metadata": {},
   "outputs": [
    {
     "name": "stdout",
     "output_type": "stream",
     "text": [
      "<class 'pandas.core.frame.DataFrame'>\n",
      "RangeIndex: 5000 entries, 0 to 4999\n",
      "Data columns (total 5 columns):\n",
      " #   Column              Non-Null Count  Dtype  \n",
      "---  ------              --------------  -----  \n",
      " 0   gender              5000 non-null   int64  \n",
      " 1   age                 5000 non-null   float64\n",
      " 2   income              5000 non-null   float64\n",
      " 3   family_members      5000 non-null   int64  \n",
      " 4   insurance_benefits  5000 non-null   int64  \n",
      "dtypes: float64(2), int64(3)\n",
      "memory usage: 195.4 KB\n"
     ]
    }
   ],
   "source": [
    "df.info()"
   ]
  },
  {
   "cell_type": "code",
   "execution_count": 6,
   "metadata": {},
   "outputs": [],
   "source": [
    "# we may want to fix the age type (from float to int) though this is not critical\n",
    "\n",
    "# write your conversion here if you choose:\n",
    "df['age'] = df['age'].astype(int)"
   ]
  },
  {
   "cell_type": "code",
   "execution_count": 7,
   "metadata": {},
   "outputs": [
    {
     "name": "stdout",
     "output_type": "stream",
     "text": [
      "<class 'pandas.core.frame.DataFrame'>\n",
      "RangeIndex: 5000 entries, 0 to 4999\n",
      "Data columns (total 5 columns):\n",
      " #   Column              Non-Null Count  Dtype  \n",
      "---  ------              --------------  -----  \n",
      " 0   gender              5000 non-null   int64  \n",
      " 1   age                 5000 non-null   int64  \n",
      " 2   income              5000 non-null   float64\n",
      " 3   family_members      5000 non-null   int64  \n",
      " 4   insurance_benefits  5000 non-null   int64  \n",
      "dtypes: float64(1), int64(4)\n",
      "memory usage: 195.4 KB\n"
     ]
    }
   ],
   "source": [
    "# check to see that the conversion was successful\n",
    "df.info()"
   ]
  },
  {
   "cell_type": "code",
   "execution_count": 8,
   "metadata": {},
   "outputs": [
    {
     "data": {
      "text/html": [
       "<div>\n",
       "<style scoped>\n",
       "    .dataframe tbody tr th:only-of-type {\n",
       "        vertical-align: middle;\n",
       "    }\n",
       "\n",
       "    .dataframe tbody tr th {\n",
       "        vertical-align: top;\n",
       "    }\n",
       "\n",
       "    .dataframe thead th {\n",
       "        text-align: right;\n",
       "    }\n",
       "</style>\n",
       "<table border=\"1\" class=\"dataframe\">\n",
       "  <thead>\n",
       "    <tr style=\"text-align: right;\">\n",
       "      <th></th>\n",
       "      <th>gender</th>\n",
       "      <th>age</th>\n",
       "      <th>income</th>\n",
       "      <th>family_members</th>\n",
       "      <th>insurance_benefits</th>\n",
       "    </tr>\n",
       "  </thead>\n",
       "  <tbody>\n",
       "    <tr>\n",
       "      <th>count</th>\n",
       "      <td>5000.000000</td>\n",
       "      <td>5000.000000</td>\n",
       "      <td>5000.000000</td>\n",
       "      <td>5000.000000</td>\n",
       "      <td>5000.000000</td>\n",
       "    </tr>\n",
       "    <tr>\n",
       "      <th>mean</th>\n",
       "      <td>0.499000</td>\n",
       "      <td>30.952800</td>\n",
       "      <td>39916.360000</td>\n",
       "      <td>1.194200</td>\n",
       "      <td>0.148000</td>\n",
       "    </tr>\n",
       "    <tr>\n",
       "      <th>std</th>\n",
       "      <td>0.500049</td>\n",
       "      <td>8.440807</td>\n",
       "      <td>9900.083569</td>\n",
       "      <td>1.091387</td>\n",
       "      <td>0.463183</td>\n",
       "    </tr>\n",
       "    <tr>\n",
       "      <th>min</th>\n",
       "      <td>0.000000</td>\n",
       "      <td>18.000000</td>\n",
       "      <td>5300.000000</td>\n",
       "      <td>0.000000</td>\n",
       "      <td>0.000000</td>\n",
       "    </tr>\n",
       "    <tr>\n",
       "      <th>25%</th>\n",
       "      <td>0.000000</td>\n",
       "      <td>24.000000</td>\n",
       "      <td>33300.000000</td>\n",
       "      <td>0.000000</td>\n",
       "      <td>0.000000</td>\n",
       "    </tr>\n",
       "    <tr>\n",
       "      <th>50%</th>\n",
       "      <td>0.000000</td>\n",
       "      <td>30.000000</td>\n",
       "      <td>40200.000000</td>\n",
       "      <td>1.000000</td>\n",
       "      <td>0.000000</td>\n",
       "    </tr>\n",
       "    <tr>\n",
       "      <th>75%</th>\n",
       "      <td>1.000000</td>\n",
       "      <td>37.000000</td>\n",
       "      <td>46600.000000</td>\n",
       "      <td>2.000000</td>\n",
       "      <td>0.000000</td>\n",
       "    </tr>\n",
       "    <tr>\n",
       "      <th>max</th>\n",
       "      <td>1.000000</td>\n",
       "      <td>65.000000</td>\n",
       "      <td>79000.000000</td>\n",
       "      <td>6.000000</td>\n",
       "      <td>5.000000</td>\n",
       "    </tr>\n",
       "  </tbody>\n",
       "</table>\n",
       "</div>"
      ],
      "text/plain": [
       "            gender          age        income  family_members  \\\n",
       "count  5000.000000  5000.000000   5000.000000     5000.000000   \n",
       "mean      0.499000    30.952800  39916.360000        1.194200   \n",
       "std       0.500049     8.440807   9900.083569        1.091387   \n",
       "min       0.000000    18.000000   5300.000000        0.000000   \n",
       "25%       0.000000    24.000000  33300.000000        0.000000   \n",
       "50%       0.000000    30.000000  40200.000000        1.000000   \n",
       "75%       1.000000    37.000000  46600.000000        2.000000   \n",
       "max       1.000000    65.000000  79000.000000        6.000000   \n",
       "\n",
       "       insurance_benefits  \n",
       "count         5000.000000  \n",
       "mean             0.148000  \n",
       "std              0.463183  \n",
       "min              0.000000  \n",
       "25%              0.000000  \n",
       "50%              0.000000  \n",
       "75%              0.000000  \n",
       "max              5.000000  "
      ]
     },
     "execution_count": 8,
     "metadata": {},
     "output_type": "execute_result"
    }
   ],
   "source": [
    "# now have a look at the data's descriptive statistics. \n",
    "# Does everything look okay?\n",
    "df.describe()"
   ]
  },
  {
   "cell_type": "code",
   "execution_count": 9,
   "metadata": {},
   "outputs": [
    {
     "data": {
      "text/plain": [
       "array([1, 0])"
      ]
     },
     "execution_count": 9,
     "metadata": {},
     "output_type": "execute_result"
    }
   ],
   "source": [
    "df['gender'].unique()"
   ]
  },
  {
   "cell_type": "code",
   "execution_count": 10,
   "metadata": {
    "scrolled": false
   },
   "outputs": [
    {
     "data": {
      "text/plain": [
       "age\n",
       "19    223\n",
       "25    214\n",
       "31    212\n",
       "26    211\n",
       "22    209\n",
       "27    209\n",
       "32    206\n",
       "28    204\n",
       "29    203\n",
       "30    202\n",
       "23    202\n",
       "21    200\n",
       "20    195\n",
       "36    193\n",
       "33    191\n",
       "24    182\n",
       "35    179\n",
       "34    177\n",
       "37    147\n",
       "39    141\n",
       "38    139\n",
       "41    129\n",
       "18    117\n",
       "40    114\n",
       "42     93\n",
       "43     77\n",
       "44     74\n",
       "45     73\n",
       "46     60\n",
       "47     47\n",
       "49     37\n",
       "50     27\n",
       "48     26\n",
       "52     22\n",
       "51     21\n",
       "53     11\n",
       "55      9\n",
       "54      7\n",
       "56      5\n",
       "59      3\n",
       "57      2\n",
       "58      2\n",
       "60      2\n",
       "61      1\n",
       "65      1\n",
       "62      1\n",
       "Name: count, dtype: int64"
      ]
     },
     "execution_count": 10,
     "metadata": {},
     "output_type": "execute_result"
    }
   ],
   "source": [
    "df['age'].value_counts().sort_values(ascending=False)"
   ]
  },
  {
   "cell_type": "markdown",
   "metadata": {},
   "source": [
    "### Conclusions from loading the data\n",
    "\n",
    "Gender:\n",
    "- We have binary encoding. It's not immediately clear from the description which gender corresponds to which group. \n",
    "\n",
    "\n",
    "Age:\n",
    "- Min: 18, Max: 65\n",
    "- Average is approximately 31, so lots of younger adults in this dataset. \n",
    "\n",
    "Income: \n",
    "- Seems reasonable\n",
    "- The mean and median are almost perfectly centered, suggesting a fairly normal distribution.\n",
    "\n",
    "Family members:\n",
    "- Min: 0, Max: 6 \n",
    "- Does the \"0\" mean \"no family members\" or is it missing data?\n",
    "\n",
    "Insurance benefits:\n",
    "- Min: 0, Max:5 \n",
    "- There are a lot of zeros.\n",
    "- 75th percentile: 0 which implies that at least 75% of people don't receive any benefits. \n",
    "- Are the zeros accurate?\n"
   ]
  },
  {
   "cell_type": "markdown",
   "metadata": {},
   "source": [
    "## EDA "
   ]
  },
  {
   "cell_type": "markdown",
   "metadata": {},
   "source": [
    "Let's quickly check whether there are certain groups of customers by looking at the pair plot."
   ]
  },
  {
   "cell_type": "code",
   "execution_count": 11,
   "metadata": {},
   "outputs": [
    {
     "name": "stderr",
     "output_type": "stream",
     "text": [
      "/Users/lrw/anaconda3/lib/python3.11/site-packages/seaborn/_oldcore.py:1119: FutureWarning: use_inf_as_na option is deprecated and will be removed in a future version. Convert inf values to NaN before operating instead.\n",
      "  with pd.option_context('mode.use_inf_as_na', True):\n",
      "/Users/lrw/anaconda3/lib/python3.11/site-packages/seaborn/_oldcore.py:1119: FutureWarning: use_inf_as_na option is deprecated and will be removed in a future version. Convert inf values to NaN before operating instead.\n",
      "  with pd.option_context('mode.use_inf_as_na', True):\n",
      "/Users/lrw/anaconda3/lib/python3.11/site-packages/seaborn/_oldcore.py:1119: FutureWarning: use_inf_as_na option is deprecated and will be removed in a future version. Convert inf values to NaN before operating instead.\n",
      "  with pd.option_context('mode.use_inf_as_na', True):\n",
      "/Users/lrw/anaconda3/lib/python3.11/site-packages/seaborn/_oldcore.py:1119: FutureWarning: use_inf_as_na option is deprecated and will be removed in a future version. Convert inf values to NaN before operating instead.\n",
      "  with pd.option_context('mode.use_inf_as_na', True):\n",
      "/Users/lrw/anaconda3/lib/python3.11/site-packages/seaborn/_oldcore.py:1119: FutureWarning: use_inf_as_na option is deprecated and will be removed in a future version. Convert inf values to NaN before operating instead.\n",
      "  with pd.option_context('mode.use_inf_as_na', True):\n",
      "/Users/lrw/anaconda3/lib/python3.11/site-packages/seaborn/_oldcore.py:1119: FutureWarning: use_inf_as_na option is deprecated and will be removed in a future version. Convert inf values to NaN before operating instead.\n",
      "  with pd.option_context('mode.use_inf_as_na', True):\n",
      "/Users/lrw/anaconda3/lib/python3.11/site-packages/seaborn/_oldcore.py:1119: FutureWarning: use_inf_as_na option is deprecated and will be removed in a future version. Convert inf values to NaN before operating instead.\n",
      "  with pd.option_context('mode.use_inf_as_na', True):\n",
      "/Users/lrw/anaconda3/lib/python3.11/site-packages/seaborn/_oldcore.py:1119: FutureWarning: use_inf_as_na option is deprecated and will be removed in a future version. Convert inf values to NaN before operating instead.\n",
      "  with pd.option_context('mode.use_inf_as_na', True):\n",
      "/Users/lrw/anaconda3/lib/python3.11/site-packages/seaborn/_oldcore.py:1119: FutureWarning: use_inf_as_na option is deprecated and will be removed in a future version. Convert inf values to NaN before operating instead.\n",
      "  with pd.option_context('mode.use_inf_as_na', True):\n",
      "/Users/lrw/anaconda3/lib/python3.11/site-packages/seaborn/_oldcore.py:1119: FutureWarning: use_inf_as_na option is deprecated and will be removed in a future version. Convert inf values to NaN before operating instead.\n",
      "  with pd.option_context('mode.use_inf_as_na', True):\n",
      "/Users/lrw/anaconda3/lib/python3.11/site-packages/seaborn/_oldcore.py:1119: FutureWarning: use_inf_as_na option is deprecated and will be removed in a future version. Convert inf values to NaN before operating instead.\n",
      "  with pd.option_context('mode.use_inf_as_na', True):\n",
      "/Users/lrw/anaconda3/lib/python3.11/site-packages/seaborn/_oldcore.py:1119: FutureWarning: use_inf_as_na option is deprecated and will be removed in a future version. Convert inf values to NaN before operating instead.\n",
      "  with pd.option_context('mode.use_inf_as_na', True):\n",
      "/Users/lrw/anaconda3/lib/python3.11/site-packages/seaborn/_oldcore.py:1119: FutureWarning: use_inf_as_na option is deprecated and will be removed in a future version. Convert inf values to NaN before operating instead.\n",
      "  with pd.option_context('mode.use_inf_as_na', True):\n",
      "/Users/lrw/anaconda3/lib/python3.11/site-packages/seaborn/_oldcore.py:1119: FutureWarning: use_inf_as_na option is deprecated and will be removed in a future version. Convert inf values to NaN before operating instead.\n",
      "  with pd.option_context('mode.use_inf_as_na', True):\n",
      "/Users/lrw/anaconda3/lib/python3.11/site-packages/seaborn/_oldcore.py:1119: FutureWarning: use_inf_as_na option is deprecated and will be removed in a future version. Convert inf values to NaN before operating instead.\n",
      "  with pd.option_context('mode.use_inf_as_na', True):\n",
      "/Users/lrw/anaconda3/lib/python3.11/site-packages/seaborn/_oldcore.py:1119: FutureWarning: use_inf_as_na option is deprecated and will be removed in a future version. Convert inf values to NaN before operating instead.\n",
      "  with pd.option_context('mode.use_inf_as_na', True):\n",
      "/Users/lrw/anaconda3/lib/python3.11/site-packages/seaborn/_oldcore.py:1119: FutureWarning: use_inf_as_na option is deprecated and will be removed in a future version. Convert inf values to NaN before operating instead.\n",
      "  with pd.option_context('mode.use_inf_as_na', True):\n",
      "/Users/lrw/anaconda3/lib/python3.11/site-packages/seaborn/_oldcore.py:1119: FutureWarning: use_inf_as_na option is deprecated and will be removed in a future version. Convert inf values to NaN before operating instead.\n",
      "  with pd.option_context('mode.use_inf_as_na', True):\n",
      "/Users/lrw/anaconda3/lib/python3.11/site-packages/seaborn/_oldcore.py:1119: FutureWarning: use_inf_as_na option is deprecated and will be removed in a future version. Convert inf values to NaN before operating instead.\n",
      "  with pd.option_context('mode.use_inf_as_na', True):\n",
      "/Users/lrw/anaconda3/lib/python3.11/site-packages/seaborn/_oldcore.py:1119: FutureWarning: use_inf_as_na option is deprecated and will be removed in a future version. Convert inf values to NaN before operating instead.\n",
      "  with pd.option_context('mode.use_inf_as_na', True):\n",
      "/Users/lrw/anaconda3/lib/python3.11/site-packages/seaborn/_oldcore.py:1119: FutureWarning: use_inf_as_na option is deprecated and will be removed in a future version. Convert inf values to NaN before operating instead.\n",
      "  with pd.option_context('mode.use_inf_as_na', True):\n",
      "/Users/lrw/anaconda3/lib/python3.11/site-packages/seaborn/_oldcore.py:1119: FutureWarning: use_inf_as_na option is deprecated and will be removed in a future version. Convert inf values to NaN before operating instead.\n",
      "  with pd.option_context('mode.use_inf_as_na', True):\n",
      "/Users/lrw/anaconda3/lib/python3.11/site-packages/seaborn/_oldcore.py:1119: FutureWarning: use_inf_as_na option is deprecated and will be removed in a future version. Convert inf values to NaN before operating instead.\n",
      "  with pd.option_context('mode.use_inf_as_na', True):\n",
      "/Users/lrw/anaconda3/lib/python3.11/site-packages/seaborn/_oldcore.py:1119: FutureWarning: use_inf_as_na option is deprecated and will be removed in a future version. Convert inf values to NaN before operating instead.\n",
      "  with pd.option_context('mode.use_inf_as_na', True):\n",
      "/Users/lrw/anaconda3/lib/python3.11/site-packages/seaborn/_oldcore.py:1119: FutureWarning: use_inf_as_na option is deprecated and will be removed in a future version. Convert inf values to NaN before operating instead.\n",
      "  with pd.option_context('mode.use_inf_as_na', True):\n",
      "/Users/lrw/anaconda3/lib/python3.11/site-packages/seaborn/_oldcore.py:1119: FutureWarning: use_inf_as_na option is deprecated and will be removed in a future version. Convert inf values to NaN before operating instead.\n",
      "  with pd.option_context('mode.use_inf_as_na', True):\n",
      "/Users/lrw/anaconda3/lib/python3.11/site-packages/seaborn/_oldcore.py:1119: FutureWarning: use_inf_as_na option is deprecated and will be removed in a future version. Convert inf values to NaN before operating instead.\n",
      "  with pd.option_context('mode.use_inf_as_na', True):\n",
      "/Users/lrw/anaconda3/lib/python3.11/site-packages/seaborn/_oldcore.py:1119: FutureWarning: use_inf_as_na option is deprecated and will be removed in a future version. Convert inf values to NaN before operating instead.\n",
      "  with pd.option_context('mode.use_inf_as_na', True):\n",
      "/Users/lrw/anaconda3/lib/python3.11/site-packages/seaborn/_oldcore.py:1119: FutureWarning: use_inf_as_na option is deprecated and will be removed in a future version. Convert inf values to NaN before operating instead.\n",
      "  with pd.option_context('mode.use_inf_as_na', True):\n",
      "/Users/lrw/anaconda3/lib/python3.11/site-packages/seaborn/_oldcore.py:1119: FutureWarning: use_inf_as_na option is deprecated and will be removed in a future version. Convert inf values to NaN before operating instead.\n",
      "  with pd.option_context('mode.use_inf_as_na', True):\n",
      "/Users/lrw/anaconda3/lib/python3.11/site-packages/seaborn/_oldcore.py:1119: FutureWarning: use_inf_as_na option is deprecated and will be removed in a future version. Convert inf values to NaN before operating instead.\n",
      "  with pd.option_context('mode.use_inf_as_na', True):\n",
      "/Users/lrw/anaconda3/lib/python3.11/site-packages/seaborn/_oldcore.py:1119: FutureWarning: use_inf_as_na option is deprecated and will be removed in a future version. Convert inf values to NaN before operating instead.\n",
      "  with pd.option_context('mode.use_inf_as_na', True):\n",
      "/Users/lrw/anaconda3/lib/python3.11/site-packages/seaborn/_oldcore.py:1119: FutureWarning: use_inf_as_na option is deprecated and will be removed in a future version. Convert inf values to NaN before operating instead.\n",
      "  with pd.option_context('mode.use_inf_as_na', True):\n",
      "/Users/lrw/anaconda3/lib/python3.11/site-packages/seaborn/_oldcore.py:1119: FutureWarning: use_inf_as_na option is deprecated and will be removed in a future version. Convert inf values to NaN before operating instead.\n",
      "  with pd.option_context('mode.use_inf_as_na', True):\n",
      "/Users/lrw/anaconda3/lib/python3.11/site-packages/seaborn/_oldcore.py:1119: FutureWarning: use_inf_as_na option is deprecated and will be removed in a future version. Convert inf values to NaN before operating instead.\n",
      "  with pd.option_context('mode.use_inf_as_na', True):\n",
      "/Users/lrw/anaconda3/lib/python3.11/site-packages/seaborn/_oldcore.py:1119: FutureWarning: use_inf_as_na option is deprecated and will be removed in a future version. Convert inf values to NaN before operating instead.\n",
      "  with pd.option_context('mode.use_inf_as_na', True):\n",
      "/Users/lrw/anaconda3/lib/python3.11/site-packages/seaborn/_oldcore.py:1119: FutureWarning: use_inf_as_na option is deprecated and will be removed in a future version. Convert inf values to NaN before operating instead.\n",
      "  with pd.option_context('mode.use_inf_as_na', True):\n",
      "/Users/lrw/anaconda3/lib/python3.11/site-packages/seaborn/_oldcore.py:1119: FutureWarning: use_inf_as_na option is deprecated and will be removed in a future version. Convert inf values to NaN before operating instead.\n",
      "  with pd.option_context('mode.use_inf_as_na', True):\n",
      "/Users/lrw/anaconda3/lib/python3.11/site-packages/seaborn/_oldcore.py:1119: FutureWarning: use_inf_as_na option is deprecated and will be removed in a future version. Convert inf values to NaN before operating instead.\n",
      "  with pd.option_context('mode.use_inf_as_na', True):\n"
     ]
    },
    {
     "name": "stderr",
     "output_type": "stream",
     "text": [
      "/Users/lrw/anaconda3/lib/python3.11/site-packages/seaborn/_oldcore.py:1119: FutureWarning: use_inf_as_na option is deprecated and will be removed in a future version. Convert inf values to NaN before operating instead.\n",
      "  with pd.option_context('mode.use_inf_as_na', True):\n",
      "/Users/lrw/anaconda3/lib/python3.11/site-packages/seaborn/_oldcore.py:1119: FutureWarning: use_inf_as_na option is deprecated and will be removed in a future version. Convert inf values to NaN before operating instead.\n",
      "  with pd.option_context('mode.use_inf_as_na', True):\n",
      "/Users/lrw/anaconda3/lib/python3.11/site-packages/seaborn/_oldcore.py:1119: FutureWarning: use_inf_as_na option is deprecated and will be removed in a future version. Convert inf values to NaN before operating instead.\n",
      "  with pd.option_context('mode.use_inf_as_na', True):\n",
      "/Users/lrw/anaconda3/lib/python3.11/site-packages/seaborn/_oldcore.py:1119: FutureWarning: use_inf_as_na option is deprecated and will be removed in a future version. Convert inf values to NaN before operating instead.\n",
      "  with pd.option_context('mode.use_inf_as_na', True):\n",
      "/Users/lrw/anaconda3/lib/python3.11/site-packages/seaborn/_oldcore.py:1119: FutureWarning: use_inf_as_na option is deprecated and will be removed in a future version. Convert inf values to NaN before operating instead.\n",
      "  with pd.option_context('mode.use_inf_as_na', True):\n",
      "/Users/lrw/anaconda3/lib/python3.11/site-packages/seaborn/_oldcore.py:1119: FutureWarning: use_inf_as_na option is deprecated and will be removed in a future version. Convert inf values to NaN before operating instead.\n",
      "  with pd.option_context('mode.use_inf_as_na', True):\n"
     ]
    },
    {
     "data": {
      "image/png": "[encoded data removed]",
      "text/plain": [
       "<Figure size 1200x1200 with 30 Axes>"
      ]
     },
     "metadata": {},
     "output_type": "display_data"
    }
   ],
   "source": [
    "g = sns.pairplot(df, kind='hist')\n",
    "g.fig.set_size_inches(12, 12)"
   ]
  },
  {
   "cell_type": "markdown",
   "metadata": {},
   "source": [
    "Ok, it is a bit difficult to spot obvious groups (clusters) as it is difficult to combine several variables simultaneously (to analyze multivariate distributions). That's where LA and ML can be quite handy.\n",
    "\n",
    "Using a heatmap to take a closer look at the data: "
   ]
  },
  {
   "cell_type": "code",
   "execution_count": 12,
   "metadata": {},
   "outputs": [
    {
     "name": "stdout",
     "output_type": "stream",
     "text": [
      "                      gender       age    income  family_members  \\\n",
      "gender              1.000000  0.002074  0.014910       -0.008991   \n",
      "age                 0.002074  1.000000 -0.019093       -0.006692   \n",
      "income              0.014910 -0.019093  1.000000       -0.030296   \n",
      "family_members     -0.008991 -0.006692 -0.030296        1.000000   \n",
      "insurance_benefits  0.010140  0.651030 -0.014963       -0.036290   \n",
      "\n",
      "                    insurance_benefits  \n",
      "gender                        0.010140  \n",
      "age                           0.651030  \n",
      "income                       -0.014963  \n",
      "family_members               -0.036290  \n",
      "insurance_benefits            1.000000  \n"
     ]
    },
    {
     "data": {
      "image/png": "[encoded data removed]",
      "text/plain": [
       "<Figure size 800x600 with 2 Axes>"
      ]
     },
     "metadata": {},
     "output_type": "display_data"
    }
   ],
   "source": [
    "# Compute the correlation matrix\n",
    "corr_matrix = df.corr()\n",
    "\n",
    "print(df.corr())\n",
    "\n",
    "# Plot the heatmap\n",
    "plt.figure(figsize=(8, 6))\n",
    "sns.heatmap(corr_matrix, annot=True, cmap='coolwarm', fmt=\".4f\", linewidths=0.5)\n",
    "plt.title(\"Correlation Matrix Heatmap of Provided Insurance Data\")\n",
    "plt.show()"
   ]
  },
  {
   "cell_type": "markdown",
   "metadata": {},
   "source": [
    "The heat map suggests a strong positive relationship with age and insurance benefits at 0.65. \n",
    "\n",
    "**Taking a closer look at the income data:**"
   ]
  },
  {
   "cell_type": "code",
   "execution_count": 13,
   "metadata": {},
   "outputs": [
    {
     "name": "stderr",
     "output_type": "stream",
     "text": [
      "/Users/lrw/anaconda3/lib/python3.11/site-packages/seaborn/_oldcore.py:1119: FutureWarning: use_inf_as_na option is deprecated and will be removed in a future version. Convert inf values to NaN before operating instead.\n",
      "  with pd.option_context('mode.use_inf_as_na', True):\n"
     ]
    },
    {
     "data": {
      "image/png": "[encoded data removed]",
      "text/plain": [
       "<Figure size 800x500 with 1 Axes>"
      ]
     },
     "metadata": {},
     "output_type": "display_data"
    }
   ],
   "source": [
    "plt.figure(figsize=(8, 5))\n",
    "sns.histplot(df['income'], bins=30, kde=True, color=\"royalblue\")\n",
    "plt.title(\"Income Distribution\", fontsize=14, fontweight=\"bold\")\n",
    "plt.xlabel(\"Income\")\n",
    "plt.ylabel(\"Count\")\n",
    "plt.show()"
   ]
  },
  {
   "cell_type": "code",
   "execution_count": 14,
   "metadata": {},
   "outputs": [
    {
     "data": {
      "image/png": "[encoded data removed]",
      "text/plain": [
       "<Figure size 800x600 with 1 Axes>"
      ]
     },
     "metadata": {},
     "output_type": "display_data"
    }
   ],
   "source": [
    "# Create a boxplot for income\n",
    "plt.figure(figsize=(8,6))\n",
    "plt.boxplot(df['income'])\n",
    "plt.title(\"Box Plot of Income (Before Scaling)\")\n",
    "plt.show()"
   ]
  },
  {
   "cell_type": "code",
   "execution_count": 15,
   "metadata": {
    "scrolled": false
   },
   "outputs": [
    {
     "name": "stdout",
     "output_type": "stream",
     "text": [
      "Number of outliers: 37\n"
     ]
    },
    {
     "data": {
      "text/html": [
       "<div>\n",
       "<style scoped>\n",
       "    .dataframe tbody tr th:only-of-type {\n",
       "        vertical-align: middle;\n",
       "    }\n",
       "\n",
       "    .dataframe tbody tr th {\n",
       "        vertical-align: top;\n",
       "    }\n",
       "\n",
       "    .dataframe thead th {\n",
       "        text-align: right;\n",
       "    }\n",
       "</style>\n",
       "<table border=\"1\" class=\"dataframe\">\n",
       "  <thead>\n",
       "    <tr style=\"text-align: right;\">\n",
       "      <th></th>\n",
       "      <th>income</th>\n",
       "    </tr>\n",
       "  </thead>\n",
       "  <tbody>\n",
       "    <tr>\n",
       "      <th>42</th>\n",
       "      <td>69200.0</td>\n",
       "    </tr>\n",
       "    <tr>\n",
       "      <th>425</th>\n",
       "      <td>67700.0</td>\n",
       "    </tr>\n",
       "    <tr>\n",
       "      <th>437</th>\n",
       "      <td>8900.0</td>\n",
       "    </tr>\n",
       "    <tr>\n",
       "      <th>483</th>\n",
       "      <td>9800.0</td>\n",
       "    </tr>\n",
       "    <tr>\n",
       "      <th>726</th>\n",
       "      <td>5300.0</td>\n",
       "    </tr>\n",
       "    <tr>\n",
       "      <th>1095</th>\n",
       "      <td>11300.0</td>\n",
       "    </tr>\n",
       "    <tr>\n",
       "      <th>1309</th>\n",
       "      <td>12900.0</td>\n",
       "    </tr>\n",
       "    <tr>\n",
       "      <th>1545</th>\n",
       "      <td>13000.0</td>\n",
       "    </tr>\n",
       "    <tr>\n",
       "      <th>1891</th>\n",
       "      <td>70600.0</td>\n",
       "    </tr>\n",
       "    <tr>\n",
       "      <th>2087</th>\n",
       "      <td>68000.0</td>\n",
       "    </tr>\n",
       "    <tr>\n",
       "      <th>2193</th>\n",
       "      <td>71400.0</td>\n",
       "    </tr>\n",
       "    <tr>\n",
       "      <th>2221</th>\n",
       "      <td>10000.0</td>\n",
       "    </tr>\n",
       "    <tr>\n",
       "      <th>2233</th>\n",
       "      <td>11300.0</td>\n",
       "    </tr>\n",
       "    <tr>\n",
       "      <th>2499</th>\n",
       "      <td>11000.0</td>\n",
       "    </tr>\n",
       "    <tr>\n",
       "      <th>2966</th>\n",
       "      <td>68400.0</td>\n",
       "    </tr>\n",
       "    <tr>\n",
       "      <th>3001</th>\n",
       "      <td>13300.0</td>\n",
       "    </tr>\n",
       "    <tr>\n",
       "      <th>3011</th>\n",
       "      <td>68500.0</td>\n",
       "    </tr>\n",
       "    <tr>\n",
       "      <th>3093</th>\n",
       "      <td>67200.0</td>\n",
       "    </tr>\n",
       "    <tr>\n",
       "      <th>3255</th>\n",
       "      <td>79000.0</td>\n",
       "    </tr>\n",
       "    <tr>\n",
       "      <th>3325</th>\n",
       "      <td>11200.0</td>\n",
       "    </tr>\n",
       "    <tr>\n",
       "      <th>3328</th>\n",
       "      <td>71600.0</td>\n",
       "    </tr>\n",
       "    <tr>\n",
       "      <th>3367</th>\n",
       "      <td>70500.0</td>\n",
       "    </tr>\n",
       "    <tr>\n",
       "      <th>3377</th>\n",
       "      <td>11200.0</td>\n",
       "    </tr>\n",
       "    <tr>\n",
       "      <th>3398</th>\n",
       "      <td>67100.0</td>\n",
       "    </tr>\n",
       "    <tr>\n",
       "      <th>3770</th>\n",
       "      <td>70000.0</td>\n",
       "    </tr>\n",
       "    <tr>\n",
       "      <th>3925</th>\n",
       "      <td>13200.0</td>\n",
       "    </tr>\n",
       "    <tr>\n",
       "      <th>3929</th>\n",
       "      <td>13200.0</td>\n",
       "    </tr>\n",
       "    <tr>\n",
       "      <th>4029</th>\n",
       "      <td>68900.0</td>\n",
       "    </tr>\n",
       "    <tr>\n",
       "      <th>4159</th>\n",
       "      <td>12200.0</td>\n",
       "    </tr>\n",
       "    <tr>\n",
       "      <th>4164</th>\n",
       "      <td>6000.0</td>\n",
       "    </tr>\n",
       "    <tr>\n",
       "      <th>4360</th>\n",
       "      <td>74800.0</td>\n",
       "    </tr>\n",
       "    <tr>\n",
       "      <th>4407</th>\n",
       "      <td>10800.0</td>\n",
       "    </tr>\n",
       "    <tr>\n",
       "      <th>4442</th>\n",
       "      <td>10600.0</td>\n",
       "    </tr>\n",
       "    <tr>\n",
       "      <th>4459</th>\n",
       "      <td>11000.0</td>\n",
       "    </tr>\n",
       "    <tr>\n",
       "      <th>4493</th>\n",
       "      <td>69400.0</td>\n",
       "    </tr>\n",
       "    <tr>\n",
       "      <th>4512</th>\n",
       "      <td>75200.0</td>\n",
       "    </tr>\n",
       "    <tr>\n",
       "      <th>4623</th>\n",
       "      <td>7400.0</td>\n",
       "    </tr>\n",
       "  </tbody>\n",
       "</table>\n",
       "</div>"
      ],
      "text/plain": [
       "       income\n",
       "42    69200.0\n",
       "425   67700.0\n",
       "437    8900.0\n",
       "483    9800.0\n",
       "726    5300.0\n",
       "1095  11300.0\n",
       "1309  12900.0\n",
       "1545  13000.0\n",
       "1891  70600.0\n",
       "2087  68000.0\n",
       "2193  71400.0\n",
       "2221  10000.0\n",
       "2233  11300.0\n",
       "2499  11000.0\n",
       "2966  68400.0\n",
       "3001  13300.0\n",
       "3011  68500.0\n",
       "3093  67200.0\n",
       "3255  79000.0\n",
       "3325  11200.0\n",
       "3328  71600.0\n",
       "3367  70500.0\n",
       "3377  11200.0\n",
       "3398  67100.0\n",
       "3770  70000.0\n",
       "3925  13200.0\n",
       "3929  13200.0\n",
       "4029  68900.0\n",
       "4159  12200.0\n",
       "4164   6000.0\n",
       "4360  74800.0\n",
       "4407  10800.0\n",
       "4442  10600.0\n",
       "4459  11000.0\n",
       "4493  69400.0\n",
       "4512  75200.0\n",
       "4623   7400.0"
      ]
     },
     "execution_count": 15,
     "metadata": {},
     "output_type": "execute_result"
    }
   ],
   "source": [
    "# Examining the outliers of the 'income' column\n",
    "Q1 = df['income'].quantile(0.25)\n",
    "Q3 = df['income'].quantile(0.75)\n",
    "IQR = Q3 - Q1\n",
    "\n",
    "# Define outlier thresholds\n",
    "lower_bound = Q1 - 1.5 * IQR\n",
    "upper_bound = Q3 + 1.5 * IQR\n",
    "\n",
    "# Count outliers\n",
    "outliers = df[(df['income'] < lower_bound) | (df['income'] > upper_bound)]\n",
    "print(f\"Number of outliers: {len(outliers)}\")\n",
    "\n",
    "# Display the actual outlier values\n",
    "outliers[['income']]"
   ]
  },
  {
   "cell_type": "markdown",
   "metadata": {},
   "source": [
    "Creating a boxplot to explore the data from the other columns. "
   ]
  },
  {
   "cell_type": "code",
   "execution_count": 16,
   "metadata": {},
   "outputs": [
    {
     "data": {
      "image/png": "[encoded data removed]",
      "text/plain": [
       "<Figure size 1000x600 with 1 Axes>"
      ]
     },
     "metadata": {},
     "output_type": "display_data"
    }
   ],
   "source": [
    "# Boxplot for 'age', 'family_members', 'insurance_benefits'\n",
    "plt.figure(figsize=(10,6))\n",
    "sns.boxplot(data=df[['age', 'family_members', 'insurance_benefits']], palette='muted')\n",
    "plt.title(\"Box Plot of Numerical Features (Before Scaling)\")\n",
    "plt.xticks(rotation=45, fontsize=10)\n",
    "plt.show()"
   ]
  },
  {
   "cell_type": "code",
   "execution_count": 17,
   "metadata": {
    "scrolled": true
   },
   "outputs": [
    {
     "name": "stderr",
     "output_type": "stream",
     "text": [
      "/Users/lrw/anaconda3/lib/python3.11/site-packages/seaborn/_oldcore.py:1119: FutureWarning: use_inf_as_na option is deprecated and will be removed in a future version. Convert inf values to NaN before operating instead.\n",
      "  with pd.option_context('mode.use_inf_as_na', True):\n"
     ]
    },
    {
     "data": {
      "image/png": "[encoded data removed]",
      "text/plain": [
       "<Figure size 800x600 with 1 Axes>"
      ]
     },
     "metadata": {},
     "output_type": "display_data"
    }
   ],
   "source": [
    "# Histogram for 'family_members'\n",
    "plt.figure(figsize=(8,6))\n",
    "sns.histplot(data=df['family_members'], bins=7, discrete=True, kde=False, color=\"royalblue\")\n",
    "plt.title(\"Distribution of Family Members\")\n",
    "plt.xlabel(\"Number of family members\")\n",
    "plt.ylabel(\"Count\")\n",
    "plt.show()"
   ]
  },
  {
   "cell_type": "code",
   "execution_count": 18,
   "metadata": {
    "scrolled": false
   },
   "outputs": [
    {
     "data": {
      "image/png": "[encoded data removed]",
      "text/plain": [
       "<Figure size 600x400 with 1 Axes>"
      ]
     },
     "metadata": {},
     "output_type": "display_data"
    }
   ],
   "source": [
    "# Countplot for 'insurance_benefits'b\n",
    "plt.figure(figsize=(6, 4))\n",
    "sns.countplot(x=df['insurance_benefits'], palette=\"Set2\")\n",
    "plt.title(\"Distribution of Insurance Benefits\", fontsize=14, fontweight=\"bold\")\n",
    "plt.xlabel(\"Insurance Benefits Received\")\n",
    "plt.ylabel(\"Count\")\n",
    "plt.show()"
   ]
  },
  {
   "cell_type": "markdown",
   "metadata": {},
   "source": [
    "### EDA Conclusion\n",
    "\n",
    "**Income Distribution & Outliers:**\n",
    "-  The income data follows an approximately normal distribution, but 37 outliers were identified, primarily at high and low extremes.\n",
    "\n",
    "Despite these outliers, income was not transformed because:\n",
    "- The distribution was not highly skewed, and models performed well without modification.\n",
    "- Removing outliers would reduce sample size and could eliminate valid data points.\n",
    "- If this data were used in a different context (e.g., predicting income), log transformation might be useful, but it was not necessary for this analysis.\n",
    "\n",
    "**Family Members:**\n",
    "- The dataset includes a family_members variable, which represents the number of family members a person has.\n",
    "A significant number of individuals have 0 recorded family members, but no explanation is provided in the dataset.\n",
    "\n",
    "- It is unclear whether 0 represents single-person households or missing/unreported data.\n",
    "Further investigation or domain knowledge would be needed to interpret these values correctly.\n",
    "\n",
    "**Insurance Benefits Received:**\n",
    "- Most people received 0 benefits. "
   ]
  },
  {
   "cell_type": "markdown",
   "metadata": {},
   "source": [
    "# Task 1. Similar Customers\n"
   ]
  },
  {
   "cell_type": "markdown",
   "metadata": {},
   "source": [
    "In the language of ML, it is necessary to develop a procedure that returns k nearest neighbors (objects) for a given object based on the distance between the objects.\n",
    "\n",
    "You may want to review the following lessons (chapter -> lesson)\n",
    "- Distance Between Vectors -> Euclidean Distance\n",
    "- Distance Between Vectors -> Manhattan Distance\n",
    "\n",
    "To solve the task, we can try different distance metrics."
   ]
  },
  {
   "cell_type": "markdown",
   "metadata": {},
   "source": [
    "Write a function that returns k nearest neighbors for an $n^{th}$ object based on a specified distance metric. The number of received insurance benefits should not be taken into account for this task. \n",
    "\n",
    "You can use a ready implementation of the kNN algorithm from scikit-learn (check [the link](https://scikit-learn.org/stable/modules/generated/sklearn.neighbors.NearestNeighbors.html#sklearn.neighbors.NearestNeighbors)) or use your own.\n",
    "\n",
    "Test it for four combination of two cases\n",
    "- Scaling\n",
    "  - the data is not scaled\n",
    "  - the data is scaled \n",
    "- Distance Metrics\n",
    "  - Euclidean\n",
    "  - Manhattan\n",
    "\n",
    "Answer these questions:\n",
    "- Does the data being not scaled affect the kNN algorithm? If so, how does that appear?\n",
    "- How similar are the results using the Manhattan distance metric (regardless of the scaling)?"
   ]
  },
  {
   "cell_type": "markdown",
   "metadata": {},
   "source": [
    "## Similar Customers with kNN"
   ]
  },
  {
   "cell_type": "code",
   "execution_count": 19,
   "metadata": {},
   "outputs": [],
   "source": [
    "def get_knn(df, n, k, metric, feature_subset):\n",
    "    \n",
    "    \"\"\"\n",
    "    Returns k nearest neighbors\n",
    "\n",
    "    :param df: pandas DataFrame used to find similar objects within\n",
    "    :param n: object no for which the nearest neighbours are looked for\n",
    "    :param k: the number of the nearest neighbours to return\n",
    "    :param metric: name of distance metric\n",
    "    \"\"\"\n",
    "\n",
    "    nbrs = NearestNeighbors(n_neighbors=k, algorithm=\"auto\", metric=metric)\n",
    "    nbrs.fit(df[feature_subset])\n",
    "    nbrs_distances, nbrs_indices = nbrs.kneighbors([df.iloc[n][feature_subset]], k, return_distance=True)\n",
    "    \n",
    "    df_res = pd.concat([\n",
    "        df.iloc[nbrs_indices[0]], \n",
    "        pd.DataFrame(nbrs_distances.T, index=nbrs_indices[0], columns=['distance'])\n",
    "        ], axis=1)\n",
    "    \n",
    "    return df_res"
   ]
  },
  {
   "cell_type": "markdown",
   "metadata": {},
   "source": [
    "Notes on scaling the data: \n",
    "\n",
    "Income is a large value and it can dominate smaller values like gender, creating bias. Scaling ensures all features contribute equally when computing distance. \n",
    "\n",
    "- We'll use `MaxAbsScaler()` for scaling. It scales each feature between -1 and 1 by dividing by the largest absolute value in the column. \n",
    "- It doesn't shift the mean to 0 like `StandardScalar`."
   ]
  },
  {
   "cell_type": "markdown",
   "metadata": {},
   "source": [
    "**Testing out the function**\n",
    "\n",
    "To understand how feature selection, scaling, and distance metrics impact k-nearest neighbors (kNN) similarity calculations, we'll explore different feature subsets and their impact on similarity calculations.\n",
    "\n",
    "We're testing combinations of: \n",
    "✅ Different feature subsets Demographic-based vs. Financial-based vs. All Features\n",
    "✅ Scaling vs. No Scaling (MaxAbsScaler)\n",
    "✅ Distance Metrics (Euclidean vs. Manhattan)\n",
    "\n",
    "\n",
    "\n",
    "**1. Unscaled data - Euclidean distance**\n",
    "\n",
    "Goal: Establish a baseline using raw (unscaled) data to see which features dominate similarity calculations.\n",
    "\n",
    "Key Question: Do large numerical values like income affect similarity more than smaller values like age?\n",
    "Expected Outcome: Features with larger ranges (like income) will likely have an outsized influence.\n",
    "\n",
    "**2. Unscaled data - Manhattan distance**\n",
    "\n",
    "Goal: Compare how a different distance metric affects similarity calculations on unscaled data.\n",
    "\n",
    "Key Question: Does Manhattan distance produce different neighbors than Euclidean distance?\n",
    "Expected Outcome: Since Manhattan distance sums absolute differences rather than squaring them, it may reduce the dominance of high-range values like income.\n",
    "\n",
    "**3. Scaled data - Euclidean distance**\n",
    "\n",
    "Goal: Apply MaxAbsScaler to ensure all features contribute equally, then re-run Euclidean kNN.\n",
    "\n",
    "Key Question: How does scaling affect neighbor selection?\n",
    "Expected Outcome: Scaling should prevent income from dominating, meaning neighbors should be chosen more evenly based on all features.\n",
    "\n",
    "**4. Scaled data - Manhattan distance**\n",
    "\n",
    "Goal: Test the impact of scaling + Manhattan distance on similarity calculations.\n",
    "\n",
    "Key Question: Does Manhattan distance behave differently after scaling?\n",
    "Expected Outcome: Since Manhattan distance is already less sensitive to extreme values, scaling might have a smaller effect compared to Euclidean distance."
   ]
  },
  {
   "cell_type": "code",
   "execution_count": 20,
   "metadata": {},
   "outputs": [
    {
     "name": "stdout",
     "output_type": "stream",
     "text": [
      "Demographic-based Feature Set (Unscaled Data - Euclidean):\n"
     ]
    },
    {
     "name": "stderr",
     "output_type": "stream",
     "text": [
      "/Users/lrw/anaconda3/lib/python3.11/site-packages/sklearn/base.py:493: UserWarning: X does not have valid feature names, but NearestNeighbors was fitted with feature names\n",
      "  warnings.warn(\n",
      "/Users/lrw/anaconda3/lib/python3.11/site-packages/sklearn/base.py:493: UserWarning: X does not have valid feature names, but NearestNeighbors was fitted with feature names\n",
      "  warnings.warn(\n",
      "/Users/lrw/anaconda3/lib/python3.11/site-packages/sklearn/base.py:493: UserWarning: X does not have valid feature names, but NearestNeighbors was fitted with feature names\n",
      "  warnings.warn(\n"
     ]
    },
    {
     "data": {
      "text/html": [
       "<div>\n",
       "<style scoped>\n",
       "    .dataframe tbody tr th:only-of-type {\n",
       "        vertical-align: middle;\n",
       "    }\n",
       "\n",
       "    .dataframe tbody tr th {\n",
       "        vertical-align: top;\n",
       "    }\n",
       "\n",
       "    .dataframe thead th {\n",
       "        text-align: right;\n",
       "    }\n",
       "</style>\n",
       "<table border=\"1\" class=\"dataframe\">\n",
       "  <thead>\n",
       "    <tr style=\"text-align: right;\">\n",
       "      <th></th>\n",
       "      <th>gender</th>\n",
       "      <th>age</th>\n",
       "      <th>income</th>\n",
       "      <th>family_members</th>\n",
       "      <th>insurance_benefits</th>\n",
       "      <th>distance</th>\n",
       "    </tr>\n",
       "  </thead>\n",
       "  <tbody>\n",
       "    <tr>\n",
       "      <th>74</th>\n",
       "      <td>1</td>\n",
       "      <td>24</td>\n",
       "      <td>47000.0</td>\n",
       "      <td>3</td>\n",
       "      <td>0</td>\n",
       "      <td>0.0</td>\n",
       "    </tr>\n",
       "    <tr>\n",
       "      <th>496</th>\n",
       "      <td>1</td>\n",
       "      <td>24</td>\n",
       "      <td>53800.0</td>\n",
       "      <td>3</td>\n",
       "      <td>0</td>\n",
       "      <td>0.0</td>\n",
       "    </tr>\n",
       "    <tr>\n",
       "      <th>120</th>\n",
       "      <td>1</td>\n",
       "      <td>24</td>\n",
       "      <td>46400.0</td>\n",
       "      <td>2</td>\n",
       "      <td>0</td>\n",
       "      <td>0.0</td>\n",
       "    </tr>\n",
       "    <tr>\n",
       "      <th>107</th>\n",
       "      <td>1</td>\n",
       "      <td>24</td>\n",
       "      <td>53900.0</td>\n",
       "      <td>2</td>\n",
       "      <td>0</td>\n",
       "      <td>0.0</td>\n",
       "    </tr>\n",
       "    <tr>\n",
       "      <th>88</th>\n",
       "      <td>1</td>\n",
       "      <td>24</td>\n",
       "      <td>33100.0</td>\n",
       "      <td>1</td>\n",
       "      <td>0</td>\n",
       "      <td>0.0</td>\n",
       "    </tr>\n",
       "  </tbody>\n",
       "</table>\n",
       "</div>"
      ],
      "text/plain": [
       "     gender  age   income  family_members  insurance_benefits  distance\n",
       "74        1   24  47000.0               3                   0       0.0\n",
       "496       1   24  53800.0               3                   0       0.0\n",
       "120       1   24  46400.0               2                   0       0.0\n",
       "107       1   24  53900.0               2                   0       0.0\n",
       "88        1   24  33100.0               1                   0       0.0"
      ]
     },
     "metadata": {},
     "output_type": "display_data"
    },
    {
     "name": "stdout",
     "output_type": "stream",
     "text": [
      "Financial-based Feature Set (Unscaled Data - Euclidean):\n"
     ]
    },
    {
     "data": {
      "text/html": [
       "<div>\n",
       "<style scoped>\n",
       "    .dataframe tbody tr th:only-of-type {\n",
       "        vertical-align: middle;\n",
       "    }\n",
       "\n",
       "    .dataframe tbody tr th {\n",
       "        vertical-align: top;\n",
       "    }\n",
       "\n",
       "    .dataframe thead th {\n",
       "        text-align: right;\n",
       "    }\n",
       "</style>\n",
       "<table border=\"1\" class=\"dataframe\">\n",
       "  <thead>\n",
       "    <tr style=\"text-align: right;\">\n",
       "      <th></th>\n",
       "      <th>gender</th>\n",
       "      <th>age</th>\n",
       "      <th>income</th>\n",
       "      <th>family_members</th>\n",
       "      <th>insurance_benefits</th>\n",
       "      <th>distance</th>\n",
       "    </tr>\n",
       "  </thead>\n",
       "  <tbody>\n",
       "    <tr>\n",
       "      <th>1408</th>\n",
       "      <td>0</td>\n",
       "      <td>35</td>\n",
       "      <td>37800.0</td>\n",
       "      <td>0</td>\n",
       "      <td>0</td>\n",
       "      <td>0.0</td>\n",
       "    </tr>\n",
       "    <tr>\n",
       "      <th>1087</th>\n",
       "      <td>0</td>\n",
       "      <td>30</td>\n",
       "      <td>37800.0</td>\n",
       "      <td>0</td>\n",
       "      <td>0</td>\n",
       "      <td>0.0</td>\n",
       "    </tr>\n",
       "    <tr>\n",
       "      <th>1108</th>\n",
       "      <td>1</td>\n",
       "      <td>27</td>\n",
       "      <td>37800.0</td>\n",
       "      <td>0</td>\n",
       "      <td>0</td>\n",
       "      <td>0.0</td>\n",
       "    </tr>\n",
       "    <tr>\n",
       "      <th>1728</th>\n",
       "      <td>0</td>\n",
       "      <td>30</td>\n",
       "      <td>37800.0</td>\n",
       "      <td>0</td>\n",
       "      <td>0</td>\n",
       "      <td>0.0</td>\n",
       "    </tr>\n",
       "    <tr>\n",
       "      <th>1489</th>\n",
       "      <td>0</td>\n",
       "      <td>48</td>\n",
       "      <td>37800.0</td>\n",
       "      <td>0</td>\n",
       "      <td>1</td>\n",
       "      <td>0.0</td>\n",
       "    </tr>\n",
       "  </tbody>\n",
       "</table>\n",
       "</div>"
      ],
      "text/plain": [
       "      gender  age   income  family_members  insurance_benefits  distance\n",
       "1408       0   35  37800.0               0                   0       0.0\n",
       "1087       0   30  37800.0               0                   0       0.0\n",
       "1108       1   27  37800.0               0                   0       0.0\n",
       "1728       0   30  37800.0               0                   0       0.0\n",
       "1489       0   48  37800.0               0                   1       0.0"
      ]
     },
     "metadata": {},
     "output_type": "display_data"
    },
    {
     "name": "stdout",
     "output_type": "stream",
     "text": [
      "All Features Feature Set (Unscaled Data - Euclidean):\n"
     ]
    },
    {
     "data": {
      "text/html": [
       "<div>\n",
       "<style scoped>\n",
       "    .dataframe tbody tr th:only-of-type {\n",
       "        vertical-align: middle;\n",
       "    }\n",
       "\n",
       "    .dataframe tbody tr th {\n",
       "        vertical-align: top;\n",
       "    }\n",
       "\n",
       "    .dataframe thead th {\n",
       "        text-align: right;\n",
       "    }\n",
       "</style>\n",
       "<table border=\"1\" class=\"dataframe\">\n",
       "  <thead>\n",
       "    <tr style=\"text-align: right;\">\n",
       "      <th></th>\n",
       "      <th>gender</th>\n",
       "      <th>age</th>\n",
       "      <th>income</th>\n",
       "      <th>family_members</th>\n",
       "      <th>insurance_benefits</th>\n",
       "      <th>distance</th>\n",
       "    </tr>\n",
       "  </thead>\n",
       "  <tbody>\n",
       "    <tr>\n",
       "      <th>4793</th>\n",
       "      <td>1</td>\n",
       "      <td>24</td>\n",
       "      <td>37800.0</td>\n",
       "      <td>0</td>\n",
       "      <td>0</td>\n",
       "      <td>0.00000</td>\n",
       "    </tr>\n",
       "    <tr>\n",
       "      <th>2975</th>\n",
       "      <td>1</td>\n",
       "      <td>24</td>\n",
       "      <td>37800.0</td>\n",
       "      <td>0</td>\n",
       "      <td>0</td>\n",
       "      <td>0.00000</td>\n",
       "    </tr>\n",
       "    <tr>\n",
       "      <th>2307</th>\n",
       "      <td>0</td>\n",
       "      <td>22</td>\n",
       "      <td>37800.0</td>\n",
       "      <td>1</td>\n",
       "      <td>0</td>\n",
       "      <td>2.44949</td>\n",
       "    </tr>\n",
       "    <tr>\n",
       "      <th>3136</th>\n",
       "      <td>0</td>\n",
       "      <td>22</td>\n",
       "      <td>37800.0</td>\n",
       "      <td>1</td>\n",
       "      <td>0</td>\n",
       "      <td>2.44949</td>\n",
       "    </tr>\n",
       "    <tr>\n",
       "      <th>1108</th>\n",
       "      <td>1</td>\n",
       "      <td>27</td>\n",
       "      <td>37800.0</td>\n",
       "      <td>0</td>\n",
       "      <td>0</td>\n",
       "      <td>3.00000</td>\n",
       "    </tr>\n",
       "  </tbody>\n",
       "</table>\n",
       "</div>"
      ],
      "text/plain": [
       "      gender  age   income  family_members  insurance_benefits  distance\n",
       "4793       1   24  37800.0               0                   0   0.00000\n",
       "2975       1   24  37800.0               0                   0   0.00000\n",
       "2307       0   22  37800.0               1                   0   2.44949\n",
       "3136       0   22  37800.0               1                   0   2.44949\n",
       "1108       1   27  37800.0               0                   0   3.00000"
      ]
     },
     "metadata": {},
     "output_type": "display_data"
    }
   ],
   "source": [
    "# Unscaled data - Euclidean\n",
    "\n",
    "# Choose a random customer index\n",
    "n = np.random.randint(0, len(df))  \n",
    "k = 5  # Number of nearest neighbors\n",
    "\n",
    "# Define feature subsets\n",
    "feature_sets = {\n",
    "    \"Demographic-based\": ['age', 'gender'],\n",
    "    \"Financial-based\": ['income', 'family_members'],\n",
    "    \"All Features\": ['gender', 'age', 'income', 'family_members']\n",
    "}\n",
    "\n",
    "# Store results for unscaled data\n",
    "results_unscaled = {}\n",
    "\n",
    "# Test kNN without scaling for each feature subset\n",
    "for key, features in feature_sets.items():\n",
    "    results_unscaled[key] = get_knn(df, n, k, metric=\"euclidean\", feature_subset=features)\n",
    "\n",
    "# Display results\n",
    "for key, df_res in results_unscaled.items():\n",
    "    print(key, \"Feature Set (Unscaled Data - Euclidean):\")\n",
    "    display(df_res)"
   ]
  },
  {
   "cell_type": "code",
   "execution_count": 21,
   "metadata": {},
   "outputs": [
    {
     "name": "stdout",
     "output_type": "stream",
     "text": [
      "Demographic-based Feature Set (Unscaled Data - Manhattan):\n"
     ]
    },
    {
     "name": "stderr",
     "output_type": "stream",
     "text": [
      "/Users/lrw/anaconda3/lib/python3.11/site-packages/sklearn/base.py:493: UserWarning: X does not have valid feature names, but NearestNeighbors was fitted with feature names\n",
      "  warnings.warn(\n",
      "/Users/lrw/anaconda3/lib/python3.11/site-packages/sklearn/base.py:493: UserWarning: X does not have valid feature names, but NearestNeighbors was fitted with feature names\n",
      "  warnings.warn(\n",
      "/Users/lrw/anaconda3/lib/python3.11/site-packages/sklearn/base.py:493: UserWarning: X does not have valid feature names, but NearestNeighbors was fitted with feature names\n",
      "  warnings.warn(\n"
     ]
    },
    {
     "data": {
      "text/html": [
       "<div>\n",
       "<style scoped>\n",
       "    .dataframe tbody tr th:only-of-type {\n",
       "        vertical-align: middle;\n",
       "    }\n",
       "\n",
       "    .dataframe tbody tr th {\n",
       "        vertical-align: top;\n",
       "    }\n",
       "\n",
       "    .dataframe thead th {\n",
       "        text-align: right;\n",
       "    }\n",
       "</style>\n",
       "<table border=\"1\" class=\"dataframe\">\n",
       "  <thead>\n",
       "    <tr style=\"text-align: right;\">\n",
       "      <th></th>\n",
       "      <th>gender</th>\n",
       "      <th>age</th>\n",
       "      <th>income</th>\n",
       "      <th>family_members</th>\n",
       "      <th>insurance_benefits</th>\n",
       "      <th>distance</th>\n",
       "    </tr>\n",
       "  </thead>\n",
       "  <tbody>\n",
       "    <tr>\n",
       "      <th>74</th>\n",
       "      <td>1</td>\n",
       "      <td>24</td>\n",
       "      <td>47000.0</td>\n",
       "      <td>3</td>\n",
       "      <td>0</td>\n",
       "      <td>0.0</td>\n",
       "    </tr>\n",
       "    <tr>\n",
       "      <th>496</th>\n",
       "      <td>1</td>\n",
       "      <td>24</td>\n",
       "      <td>53800.0</td>\n",
       "      <td>3</td>\n",
       "      <td>0</td>\n",
       "      <td>0.0</td>\n",
       "    </tr>\n",
       "    <tr>\n",
       "      <th>120</th>\n",
       "      <td>1</td>\n",
       "      <td>24</td>\n",
       "      <td>46400.0</td>\n",
       "      <td>2</td>\n",
       "      <td>0</td>\n",
       "      <td>0.0</td>\n",
       "    </tr>\n",
       "    <tr>\n",
       "      <th>107</th>\n",
       "      <td>1</td>\n",
       "      <td>24</td>\n",
       "      <td>53900.0</td>\n",
       "      <td>2</td>\n",
       "      <td>0</td>\n",
       "      <td>0.0</td>\n",
       "    </tr>\n",
       "    <tr>\n",
       "      <th>88</th>\n",
       "      <td>1</td>\n",
       "      <td>24</td>\n",
       "      <td>33100.0</td>\n",
       "      <td>1</td>\n",
       "      <td>0</td>\n",
       "      <td>0.0</td>\n",
       "    </tr>\n",
       "  </tbody>\n",
       "</table>\n",
       "</div>"
      ],
      "text/plain": [
       "     gender  age   income  family_members  insurance_benefits  distance\n",
       "74        1   24  47000.0               3                   0       0.0\n",
       "496       1   24  53800.0               3                   0       0.0\n",
       "120       1   24  46400.0               2                   0       0.0\n",
       "107       1   24  53900.0               2                   0       0.0\n",
       "88        1   24  33100.0               1                   0       0.0"
      ]
     },
     "metadata": {},
     "output_type": "display_data"
    },
    {
     "name": "stdout",
     "output_type": "stream",
     "text": [
      "Financial-based Feature Set (Unscaled Data - Manhattan):\n"
     ]
    },
    {
     "data": {
      "text/html": [
       "<div>\n",
       "<style scoped>\n",
       "    .dataframe tbody tr th:only-of-type {\n",
       "        vertical-align: middle;\n",
       "    }\n",
       "\n",
       "    .dataframe tbody tr th {\n",
       "        vertical-align: top;\n",
       "    }\n",
       "\n",
       "    .dataframe thead th {\n",
       "        text-align: right;\n",
       "    }\n",
       "</style>\n",
       "<table border=\"1\" class=\"dataframe\">\n",
       "  <thead>\n",
       "    <tr style=\"text-align: right;\">\n",
       "      <th></th>\n",
       "      <th>gender</th>\n",
       "      <th>age</th>\n",
       "      <th>income</th>\n",
       "      <th>family_members</th>\n",
       "      <th>insurance_benefits</th>\n",
       "      <th>distance</th>\n",
       "    </tr>\n",
       "  </thead>\n",
       "  <tbody>\n",
       "    <tr>\n",
       "      <th>1408</th>\n",
       "      <td>0</td>\n",
       "      <td>35</td>\n",
       "      <td>37800.0</td>\n",
       "      <td>0</td>\n",
       "      <td>0</td>\n",
       "      <td>0.0</td>\n",
       "    </tr>\n",
       "    <tr>\n",
       "      <th>1087</th>\n",
       "      <td>0</td>\n",
       "      <td>30</td>\n",
       "      <td>37800.0</td>\n",
       "      <td>0</td>\n",
       "      <td>0</td>\n",
       "      <td>0.0</td>\n",
       "    </tr>\n",
       "    <tr>\n",
       "      <th>1108</th>\n",
       "      <td>1</td>\n",
       "      <td>27</td>\n",
       "      <td>37800.0</td>\n",
       "      <td>0</td>\n",
       "      <td>0</td>\n",
       "      <td>0.0</td>\n",
       "    </tr>\n",
       "    <tr>\n",
       "      <th>1728</th>\n",
       "      <td>0</td>\n",
       "      <td>30</td>\n",
       "      <td>37800.0</td>\n",
       "      <td>0</td>\n",
       "      <td>0</td>\n",
       "      <td>0.0</td>\n",
       "    </tr>\n",
       "    <tr>\n",
       "      <th>1489</th>\n",
       "      <td>0</td>\n",
       "      <td>48</td>\n",
       "      <td>37800.0</td>\n",
       "      <td>0</td>\n",
       "      <td>1</td>\n",
       "      <td>0.0</td>\n",
       "    </tr>\n",
       "  </tbody>\n",
       "</table>\n",
       "</div>"
      ],
      "text/plain": [
       "      gender  age   income  family_members  insurance_benefits  distance\n",
       "1408       0   35  37800.0               0                   0       0.0\n",
       "1087       0   30  37800.0               0                   0       0.0\n",
       "1108       1   27  37800.0               0                   0       0.0\n",
       "1728       0   30  37800.0               0                   0       0.0\n",
       "1489       0   48  37800.0               0                   1       0.0"
      ]
     },
     "metadata": {},
     "output_type": "display_data"
    },
    {
     "name": "stdout",
     "output_type": "stream",
     "text": [
      "All Features Feature Set (Unscaled Data - Manhattan):\n"
     ]
    },
    {
     "data": {
      "text/html": [
       "<div>\n",
       "<style scoped>\n",
       "    .dataframe tbody tr th:only-of-type {\n",
       "        vertical-align: middle;\n",
       "    }\n",
       "\n",
       "    .dataframe tbody tr th {\n",
       "        vertical-align: top;\n",
       "    }\n",
       "\n",
       "    .dataframe thead th {\n",
       "        text-align: right;\n",
       "    }\n",
       "</style>\n",
       "<table border=\"1\" class=\"dataframe\">\n",
       "  <thead>\n",
       "    <tr style=\"text-align: right;\">\n",
       "      <th></th>\n",
       "      <th>gender</th>\n",
       "      <th>age</th>\n",
       "      <th>income</th>\n",
       "      <th>family_members</th>\n",
       "      <th>insurance_benefits</th>\n",
       "      <th>distance</th>\n",
       "    </tr>\n",
       "  </thead>\n",
       "  <tbody>\n",
       "    <tr>\n",
       "      <th>2975</th>\n",
       "      <td>1</td>\n",
       "      <td>24</td>\n",
       "      <td>37800.0</td>\n",
       "      <td>0</td>\n",
       "      <td>0</td>\n",
       "      <td>0.0</td>\n",
       "    </tr>\n",
       "    <tr>\n",
       "      <th>4793</th>\n",
       "      <td>1</td>\n",
       "      <td>24</td>\n",
       "      <td>37800.0</td>\n",
       "      <td>0</td>\n",
       "      <td>0</td>\n",
       "      <td>0.0</td>\n",
       "    </tr>\n",
       "    <tr>\n",
       "      <th>1108</th>\n",
       "      <td>1</td>\n",
       "      <td>27</td>\n",
       "      <td>37800.0</td>\n",
       "      <td>0</td>\n",
       "      <td>0</td>\n",
       "      <td>3.0</td>\n",
       "    </tr>\n",
       "    <tr>\n",
       "      <th>2307</th>\n",
       "      <td>0</td>\n",
       "      <td>22</td>\n",
       "      <td>37800.0</td>\n",
       "      <td>1</td>\n",
       "      <td>0</td>\n",
       "      <td>4.0</td>\n",
       "    </tr>\n",
       "    <tr>\n",
       "      <th>3136</th>\n",
       "      <td>0</td>\n",
       "      <td>22</td>\n",
       "      <td>37800.0</td>\n",
       "      <td>1</td>\n",
       "      <td>0</td>\n",
       "      <td>4.0</td>\n",
       "    </tr>\n",
       "  </tbody>\n",
       "</table>\n",
       "</div>"
      ],
      "text/plain": [
       "      gender  age   income  family_members  insurance_benefits  distance\n",
       "2975       1   24  37800.0               0                   0       0.0\n",
       "4793       1   24  37800.0               0                   0       0.0\n",
       "1108       1   27  37800.0               0                   0       3.0\n",
       "2307       0   22  37800.0               1                   0       4.0\n",
       "3136       0   22  37800.0               1                   0       4.0"
      ]
     },
     "metadata": {},
     "output_type": "display_data"
    }
   ],
   "source": [
    "# Unscaled data - Manhattan distance\n",
    "results_unscaled_manhattan = {}\n",
    "\n",
    "for key, features in feature_sets.items():\n",
    "    results_unscaled_manhattan[key] = get_knn(df, n, k, metric=\"manhattan\", feature_subset=features)\n",
    "\n",
    "# Display results\n",
    "for key, df_res in results_unscaled_manhattan.items():\n",
    "    print(key, \"Feature Set (Unscaled Data - Manhattan):\")\n",
    "    display(df_res)"
   ]
  },
  {
   "cell_type": "code",
   "execution_count": 22,
   "metadata": {
    "scrolled": false
   },
   "outputs": [
    {
     "name": "stdout",
     "output_type": "stream",
     "text": [
      "Demographic-based Feature Set (Scaled Data - Euclidean):\n"
     ]
    },
    {
     "name": "stderr",
     "output_type": "stream",
     "text": [
      "/Users/lrw/anaconda3/lib/python3.11/site-packages/sklearn/base.py:493: UserWarning: X does not have valid feature names, but NearestNeighbors was fitted with feature names\n",
      "  warnings.warn(\n",
      "/Users/lrw/anaconda3/lib/python3.11/site-packages/sklearn/base.py:493: UserWarning: X does not have valid feature names, but NearestNeighbors was fitted with feature names\n",
      "  warnings.warn(\n",
      "/Users/lrw/anaconda3/lib/python3.11/site-packages/sklearn/base.py:493: UserWarning: X does not have valid feature names, but NearestNeighbors was fitted with feature names\n",
      "  warnings.warn(\n"
     ]
    },
    {
     "data": {
      "text/html": [
       "<div>\n",
       "<style scoped>\n",
       "    .dataframe tbody tr th:only-of-type {\n",
       "        vertical-align: middle;\n",
       "    }\n",
       "\n",
       "    .dataframe tbody tr th {\n",
       "        vertical-align: top;\n",
       "    }\n",
       "\n",
       "    .dataframe thead th {\n",
       "        text-align: right;\n",
       "    }\n",
       "</style>\n",
       "<table border=\"1\" class=\"dataframe\">\n",
       "  <thead>\n",
       "    <tr style=\"text-align: right;\">\n",
       "      <th></th>\n",
       "      <th>gender</th>\n",
       "      <th>age</th>\n",
       "      <th>income</th>\n",
       "      <th>family_members</th>\n",
       "      <th>insurance_benefits</th>\n",
       "      <th>distance</th>\n",
       "    </tr>\n",
       "  </thead>\n",
       "  <tbody>\n",
       "    <tr>\n",
       "      <th>88</th>\n",
       "      <td>1.0</td>\n",
       "      <td>0.369231</td>\n",
       "      <td>33100.0</td>\n",
       "      <td>1</td>\n",
       "      <td>0</td>\n",
       "      <td>0.0</td>\n",
       "    </tr>\n",
       "    <tr>\n",
       "      <th>322</th>\n",
       "      <td>1.0</td>\n",
       "      <td>0.369231</td>\n",
       "      <td>44600.0</td>\n",
       "      <td>1</td>\n",
       "      <td>0</td>\n",
       "      <td>0.0</td>\n",
       "    </tr>\n",
       "    <tr>\n",
       "      <th>107</th>\n",
       "      <td>1.0</td>\n",
       "      <td>0.369231</td>\n",
       "      <td>53900.0</td>\n",
       "      <td>2</td>\n",
       "      <td>0</td>\n",
       "      <td>0.0</td>\n",
       "    </tr>\n",
       "    <tr>\n",
       "      <th>74</th>\n",
       "      <td>1.0</td>\n",
       "      <td>0.369231</td>\n",
       "      <td>47000.0</td>\n",
       "      <td>3</td>\n",
       "      <td>0</td>\n",
       "      <td>0.0</td>\n",
       "    </tr>\n",
       "    <tr>\n",
       "      <th>120</th>\n",
       "      <td>1.0</td>\n",
       "      <td>0.369231</td>\n",
       "      <td>46400.0</td>\n",
       "      <td>2</td>\n",
       "      <td>0</td>\n",
       "      <td>0.0</td>\n",
       "    </tr>\n",
       "  </tbody>\n",
       "</table>\n",
       "</div>"
      ],
      "text/plain": [
       "     gender       age   income  family_members  insurance_benefits  distance\n",
       "88      1.0  0.369231  33100.0               1                   0       0.0\n",
       "322     1.0  0.369231  44600.0               1                   0       0.0\n",
       "107     1.0  0.369231  53900.0               2                   0       0.0\n",
       "74      1.0  0.369231  47000.0               3                   0       0.0\n",
       "120     1.0  0.369231  46400.0               2                   0       0.0"
      ]
     },
     "metadata": {},
     "output_type": "display_data"
    },
    {
     "name": "stdout",
     "output_type": "stream",
     "text": [
      "Financial-based Feature Set (Scaled Data - Euclidean):\n"
     ]
    },
    {
     "data": {
      "text/html": [
       "<div>\n",
       "<style scoped>\n",
       "    .dataframe tbody tr th:only-of-type {\n",
       "        vertical-align: middle;\n",
       "    }\n",
       "\n",
       "    .dataframe tbody tr th {\n",
       "        vertical-align: top;\n",
       "    }\n",
       "\n",
       "    .dataframe thead th {\n",
       "        text-align: right;\n",
       "    }\n",
       "</style>\n",
       "<table border=\"1\" class=\"dataframe\">\n",
       "  <thead>\n",
       "    <tr style=\"text-align: right;\">\n",
       "      <th></th>\n",
       "      <th>gender</th>\n",
       "      <th>age</th>\n",
       "      <th>income</th>\n",
       "      <th>family_members</th>\n",
       "      <th>insurance_benefits</th>\n",
       "      <th>distance</th>\n",
       "    </tr>\n",
       "  </thead>\n",
       "  <tbody>\n",
       "    <tr>\n",
       "      <th>1108</th>\n",
       "      <td>1</td>\n",
       "      <td>27</td>\n",
       "      <td>0.478481</td>\n",
       "      <td>0.0</td>\n",
       "      <td>0</td>\n",
       "      <td>0.0</td>\n",
       "    </tr>\n",
       "    <tr>\n",
       "      <th>1728</th>\n",
       "      <td>0</td>\n",
       "      <td>30</td>\n",
       "      <td>0.478481</td>\n",
       "      <td>0.0</td>\n",
       "      <td>0</td>\n",
       "      <td>0.0</td>\n",
       "    </tr>\n",
       "    <tr>\n",
       "      <th>1489</th>\n",
       "      <td>0</td>\n",
       "      <td>48</td>\n",
       "      <td>0.478481</td>\n",
       "      <td>0.0</td>\n",
       "      <td>1</td>\n",
       "      <td>0.0</td>\n",
       "    </tr>\n",
       "    <tr>\n",
       "      <th>1087</th>\n",
       "      <td>0</td>\n",
       "      <td>30</td>\n",
       "      <td>0.478481</td>\n",
       "      <td>0.0</td>\n",
       "      <td>0</td>\n",
       "      <td>0.0</td>\n",
       "    </tr>\n",
       "    <tr>\n",
       "      <th>1408</th>\n",
       "      <td>0</td>\n",
       "      <td>35</td>\n",
       "      <td>0.478481</td>\n",
       "      <td>0.0</td>\n",
       "      <td>0</td>\n",
       "      <td>0.0</td>\n",
       "    </tr>\n",
       "  </tbody>\n",
       "</table>\n",
       "</div>"
      ],
      "text/plain": [
       "      gender  age    income  family_members  insurance_benefits  distance\n",
       "1108       1   27  0.478481             0.0                   0       0.0\n",
       "1728       0   30  0.478481             0.0                   0       0.0\n",
       "1489       0   48  0.478481             0.0                   1       0.0\n",
       "1087       0   30  0.478481             0.0                   0       0.0\n",
       "1408       0   35  0.478481             0.0                   0       0.0"
      ]
     },
     "metadata": {},
     "output_type": "display_data"
    },
    {
     "name": "stdout",
     "output_type": "stream",
     "text": [
      "All Features Feature Set (Scaled Data - Euclidean):\n"
     ]
    },
    {
     "data": {
      "text/html": [
       "<div>\n",
       "<style scoped>\n",
       "    .dataframe tbody tr th:only-of-type {\n",
       "        vertical-align: middle;\n",
       "    }\n",
       "\n",
       "    .dataframe tbody tr th {\n",
       "        vertical-align: top;\n",
       "    }\n",
       "\n",
       "    .dataframe thead th {\n",
       "        text-align: right;\n",
       "    }\n",
       "</style>\n",
       "<table border=\"1\" class=\"dataframe\">\n",
       "  <thead>\n",
       "    <tr style=\"text-align: right;\">\n",
       "      <th></th>\n",
       "      <th>gender</th>\n",
       "      <th>age</th>\n",
       "      <th>income</th>\n",
       "      <th>family_members</th>\n",
       "      <th>insurance_benefits</th>\n",
       "      <th>distance</th>\n",
       "    </tr>\n",
       "  </thead>\n",
       "  <tbody>\n",
       "    <tr>\n",
       "      <th>4793</th>\n",
       "      <td>1.0</td>\n",
       "      <td>0.369231</td>\n",
       "      <td>0.478481</td>\n",
       "      <td>0.0</td>\n",
       "      <td>0</td>\n",
       "      <td>0.000000</td>\n",
       "    </tr>\n",
       "    <tr>\n",
       "      <th>2975</th>\n",
       "      <td>1.0</td>\n",
       "      <td>0.369231</td>\n",
       "      <td>0.478481</td>\n",
       "      <td>0.0</td>\n",
       "      <td>0</td>\n",
       "      <td>0.000000</td>\n",
       "    </tr>\n",
       "    <tr>\n",
       "      <th>1806</th>\n",
       "      <td>1.0</td>\n",
       "      <td>0.353846</td>\n",
       "      <td>0.472152</td>\n",
       "      <td>0.0</td>\n",
       "      <td>0</td>\n",
       "      <td>0.016636</td>\n",
       "    </tr>\n",
       "    <tr>\n",
       "      <th>3447</th>\n",
       "      <td>1.0</td>\n",
       "      <td>0.384615</td>\n",
       "      <td>0.472152</td>\n",
       "      <td>0.0</td>\n",
       "      <td>0</td>\n",
       "      <td>0.016636</td>\n",
       "    </tr>\n",
       "    <tr>\n",
       "      <th>3135</th>\n",
       "      <td>1.0</td>\n",
       "      <td>0.384615</td>\n",
       "      <td>0.468354</td>\n",
       "      <td>0.0</td>\n",
       "      <td>0</td>\n",
       "      <td>0.018418</td>\n",
       "    </tr>\n",
       "  </tbody>\n",
       "</table>\n",
       "</div>"
      ],
      "text/plain": [
       "      gender       age    income  family_members  insurance_benefits  distance\n",
       "4793     1.0  0.369231  0.478481             0.0                   0  0.000000\n",
       "2975     1.0  0.369231  0.478481             0.0                   0  0.000000\n",
       "1806     1.0  0.353846  0.472152             0.0                   0  0.016636\n",
       "3447     1.0  0.384615  0.472152             0.0                   0  0.016636\n",
       "3135     1.0  0.384615  0.468354             0.0                   0  0.018418"
      ]
     },
     "metadata": {},
     "output_type": "display_data"
    }
   ],
   "source": [
    "# Scaled data - Euclidean \n",
    "\n",
    "# Store results for scaled data\n",
    "results_scaled = {}\n",
    "\n",
    "for key, features in feature_sets.items():\n",
    "    # Apply scaling only to the selected feature subset\n",
    "    scaler = MaxAbsScaler()\n",
    "    df_scaled_subset = df.copy()\n",
    "    df_scaled_subset[features] = scaler.fit_transform(df[features])\n",
    "\n",
    "    # Run kNN with scaled data\n",
    "    results_scaled[key] = get_knn(df_scaled_subset, n, k, metric=\"euclidean\", feature_subset=features)\n",
    "\n",
    "# Display results\n",
    "for key, df_res in results_scaled.items():\n",
    "    print(key, \"Feature Set (Scaled Data - Euclidean):\")\n",
    "    display(df_res)"
   ]
  },
  {
   "cell_type": "code",
   "execution_count": 23,
   "metadata": {},
   "outputs": [
    {
     "name": "stdout",
     "output_type": "stream",
     "text": [
      "Demographic-based Feature Set (Scaled Data - Manhattan):\n"
     ]
    },
    {
     "name": "stderr",
     "output_type": "stream",
     "text": [
      "/Users/lrw/anaconda3/lib/python3.11/site-packages/sklearn/base.py:493: UserWarning: X does not have valid feature names, but NearestNeighbors was fitted with feature names\n",
      "  warnings.warn(\n",
      "/Users/lrw/anaconda3/lib/python3.11/site-packages/sklearn/base.py:493: UserWarning: X does not have valid feature names, but NearestNeighbors was fitted with feature names\n",
      "  warnings.warn(\n",
      "/Users/lrw/anaconda3/lib/python3.11/site-packages/sklearn/base.py:493: UserWarning: X does not have valid feature names, but NearestNeighbors was fitted with feature names\n",
      "  warnings.warn(\n"
     ]
    },
    {
     "data": {
      "text/html": [
       "<div>\n",
       "<style scoped>\n",
       "    .dataframe tbody tr th:only-of-type {\n",
       "        vertical-align: middle;\n",
       "    }\n",
       "\n",
       "    .dataframe tbody tr th {\n",
       "        vertical-align: top;\n",
       "    }\n",
       "\n",
       "    .dataframe thead th {\n",
       "        text-align: right;\n",
       "    }\n",
       "</style>\n",
       "<table border=\"1\" class=\"dataframe\">\n",
       "  <thead>\n",
       "    <tr style=\"text-align: right;\">\n",
       "      <th></th>\n",
       "      <th>gender</th>\n",
       "      <th>age</th>\n",
       "      <th>income</th>\n",
       "      <th>family_members</th>\n",
       "      <th>insurance_benefits</th>\n",
       "      <th>distance</th>\n",
       "    </tr>\n",
       "  </thead>\n",
       "  <tbody>\n",
       "    <tr>\n",
       "      <th>88</th>\n",
       "      <td>1.0</td>\n",
       "      <td>0.369231</td>\n",
       "      <td>33100.0</td>\n",
       "      <td>1</td>\n",
       "      <td>0</td>\n",
       "      <td>0.0</td>\n",
       "    </tr>\n",
       "    <tr>\n",
       "      <th>322</th>\n",
       "      <td>1.0</td>\n",
       "      <td>0.369231</td>\n",
       "      <td>44600.0</td>\n",
       "      <td>1</td>\n",
       "      <td>0</td>\n",
       "      <td>0.0</td>\n",
       "    </tr>\n",
       "    <tr>\n",
       "      <th>107</th>\n",
       "      <td>1.0</td>\n",
       "      <td>0.369231</td>\n",
       "      <td>53900.0</td>\n",
       "      <td>2</td>\n",
       "      <td>0</td>\n",
       "      <td>0.0</td>\n",
       "    </tr>\n",
       "    <tr>\n",
       "      <th>74</th>\n",
       "      <td>1.0</td>\n",
       "      <td>0.369231</td>\n",
       "      <td>47000.0</td>\n",
       "      <td>3</td>\n",
       "      <td>0</td>\n",
       "      <td>0.0</td>\n",
       "    </tr>\n",
       "    <tr>\n",
       "      <th>120</th>\n",
       "      <td>1.0</td>\n",
       "      <td>0.369231</td>\n",
       "      <td>46400.0</td>\n",
       "      <td>2</td>\n",
       "      <td>0</td>\n",
       "      <td>0.0</td>\n",
       "    </tr>\n",
       "  </tbody>\n",
       "</table>\n",
       "</div>"
      ],
      "text/plain": [
       "     gender       age   income  family_members  insurance_benefits  distance\n",
       "88      1.0  0.369231  33100.0               1                   0       0.0\n",
       "322     1.0  0.369231  44600.0               1                   0       0.0\n",
       "107     1.0  0.369231  53900.0               2                   0       0.0\n",
       "74      1.0  0.369231  47000.0               3                   0       0.0\n",
       "120     1.0  0.369231  46400.0               2                   0       0.0"
      ]
     },
     "metadata": {},
     "output_type": "display_data"
    },
    {
     "name": "stdout",
     "output_type": "stream",
     "text": [
      "Financial-based Feature Set (Scaled Data - Manhattan):\n"
     ]
    },
    {
     "data": {
      "text/html": [
       "<div>\n",
       "<style scoped>\n",
       "    .dataframe tbody tr th:only-of-type {\n",
       "        vertical-align: middle;\n",
       "    }\n",
       "\n",
       "    .dataframe tbody tr th {\n",
       "        vertical-align: top;\n",
       "    }\n",
       "\n",
       "    .dataframe thead th {\n",
       "        text-align: right;\n",
       "    }\n",
       "</style>\n",
       "<table border=\"1\" class=\"dataframe\">\n",
       "  <thead>\n",
       "    <tr style=\"text-align: right;\">\n",
       "      <th></th>\n",
       "      <th>gender</th>\n",
       "      <th>age</th>\n",
       "      <th>income</th>\n",
       "      <th>family_members</th>\n",
       "      <th>insurance_benefits</th>\n",
       "      <th>distance</th>\n",
       "    </tr>\n",
       "  </thead>\n",
       "  <tbody>\n",
       "    <tr>\n",
       "      <th>1108</th>\n",
       "      <td>1</td>\n",
       "      <td>27</td>\n",
       "      <td>0.478481</td>\n",
       "      <td>0.0</td>\n",
       "      <td>0</td>\n",
       "      <td>0.0</td>\n",
       "    </tr>\n",
       "    <tr>\n",
       "      <th>1728</th>\n",
       "      <td>0</td>\n",
       "      <td>30</td>\n",
       "      <td>0.478481</td>\n",
       "      <td>0.0</td>\n",
       "      <td>0</td>\n",
       "      <td>0.0</td>\n",
       "    </tr>\n",
       "    <tr>\n",
       "      <th>1489</th>\n",
       "      <td>0</td>\n",
       "      <td>48</td>\n",
       "      <td>0.478481</td>\n",
       "      <td>0.0</td>\n",
       "      <td>1</td>\n",
       "      <td>0.0</td>\n",
       "    </tr>\n",
       "    <tr>\n",
       "      <th>1087</th>\n",
       "      <td>0</td>\n",
       "      <td>30</td>\n",
       "      <td>0.478481</td>\n",
       "      <td>0.0</td>\n",
       "      <td>0</td>\n",
       "      <td>0.0</td>\n",
       "    </tr>\n",
       "    <tr>\n",
       "      <th>1408</th>\n",
       "      <td>0</td>\n",
       "      <td>35</td>\n",
       "      <td>0.478481</td>\n",
       "      <td>0.0</td>\n",
       "      <td>0</td>\n",
       "      <td>0.0</td>\n",
       "    </tr>\n",
       "  </tbody>\n",
       "</table>\n",
       "</div>"
      ],
      "text/plain": [
       "      gender  age    income  family_members  insurance_benefits  distance\n",
       "1108       1   27  0.478481             0.0                   0       0.0\n",
       "1728       0   30  0.478481             0.0                   0       0.0\n",
       "1489       0   48  0.478481             0.0                   1       0.0\n",
       "1087       0   30  0.478481             0.0                   0       0.0\n",
       "1408       0   35  0.478481             0.0                   0       0.0"
      ]
     },
     "metadata": {},
     "output_type": "display_data"
    },
    {
     "name": "stdout",
     "output_type": "stream",
     "text": [
      "All Features Feature Set (Scaled Data - Manhattan):\n"
     ]
    },
    {
     "data": {
      "text/html": [
       "<div>\n",
       "<style scoped>\n",
       "    .dataframe tbody tr th:only-of-type {\n",
       "        vertical-align: middle;\n",
       "    }\n",
       "\n",
       "    .dataframe tbody tr th {\n",
       "        vertical-align: top;\n",
       "    }\n",
       "\n",
       "    .dataframe thead th {\n",
       "        text-align: right;\n",
       "    }\n",
       "</style>\n",
       "<table border=\"1\" class=\"dataframe\">\n",
       "  <thead>\n",
       "    <tr style=\"text-align: right;\">\n",
       "      <th></th>\n",
       "      <th>gender</th>\n",
       "      <th>age</th>\n",
       "      <th>income</th>\n",
       "      <th>family_members</th>\n",
       "      <th>insurance_benefits</th>\n",
       "      <th>distance</th>\n",
       "    </tr>\n",
       "  </thead>\n",
       "  <tbody>\n",
       "    <tr>\n",
       "      <th>2975</th>\n",
       "      <td>1.0</td>\n",
       "      <td>0.369231</td>\n",
       "      <td>0.478481</td>\n",
       "      <td>0.0</td>\n",
       "      <td>0</td>\n",
       "      <td>0.000000</td>\n",
       "    </tr>\n",
       "    <tr>\n",
       "      <th>4793</th>\n",
       "      <td>1.0</td>\n",
       "      <td>0.369231</td>\n",
       "      <td>0.478481</td>\n",
       "      <td>0.0</td>\n",
       "      <td>0</td>\n",
       "      <td>0.000000</td>\n",
       "    </tr>\n",
       "    <tr>\n",
       "      <th>3447</th>\n",
       "      <td>1.0</td>\n",
       "      <td>0.384615</td>\n",
       "      <td>0.472152</td>\n",
       "      <td>0.0</td>\n",
       "      <td>0</td>\n",
       "      <td>0.021714</td>\n",
       "    </tr>\n",
       "    <tr>\n",
       "      <th>1806</th>\n",
       "      <td>1.0</td>\n",
       "      <td>0.353846</td>\n",
       "      <td>0.472152</td>\n",
       "      <td>0.0</td>\n",
       "      <td>0</td>\n",
       "      <td>0.021714</td>\n",
       "    </tr>\n",
       "    <tr>\n",
       "      <th>3135</th>\n",
       "      <td>1.0</td>\n",
       "      <td>0.384615</td>\n",
       "      <td>0.468354</td>\n",
       "      <td>0.0</td>\n",
       "      <td>0</td>\n",
       "      <td>0.025511</td>\n",
       "    </tr>\n",
       "  </tbody>\n",
       "</table>\n",
       "</div>"
      ],
      "text/plain": [
       "      gender       age    income  family_members  insurance_benefits  distance\n",
       "2975     1.0  0.369231  0.478481             0.0                   0  0.000000\n",
       "4793     1.0  0.369231  0.478481             0.0                   0  0.000000\n",
       "3447     1.0  0.384615  0.472152             0.0                   0  0.021714\n",
       "1806     1.0  0.353846  0.472152             0.0                   0  0.021714\n",
       "3135     1.0  0.384615  0.468354             0.0                   0  0.025511"
      ]
     },
     "metadata": {},
     "output_type": "display_data"
    }
   ],
   "source": [
    "# Scaled data - Manhattan \n",
    "\n",
    "# Store results for Manhattan distance (Scaled data)\n",
    "results_scaled_manhattan = {}\n",
    "\n",
    "for key, features in feature_sets.items():\n",
    "    # Apply scaling\n",
    "    scaler = MaxAbsScaler()\n",
    "    df_scaled_subset = df.copy()\n",
    "    df_scaled_subset[features] = scaler.fit_transform(df[features])\n",
    "\n",
    "    # Run kNN with Manhattan distance\n",
    "    results_scaled_manhattan[key] = get_knn(df_scaled_subset, n, k, metric=\"manhattan\", feature_subset=features)\n",
    "\n",
    "# Display results\n",
    "for key, df_res in results_scaled_manhattan.items():\n",
    "    print(key, \"Feature Set (Scaled Data - Manhattan):\")\n",
    "    display(df_res)"
   ]
  },
  {
   "cell_type": "markdown",
   "metadata": {},
   "source": [
    "**Summary Testing Feature Subsets & Distance Metrics in kNN**\n",
    "\n",
    "This analysis explores how different feature subsets and scaling choices affect similarity calculations.\n",
    "\n",
    "We tested three feature groups:\n",
    "- Demographic-based (age, gender)\n",
    "- Financial-based (income, family_members)\n",
    "- All Features Combined\n",
    "\n",
    "Additionally, we tested both Euclidean and Manhattan distances with:\n",
    "- Unscaled Data\n",
    "- Scaled Data (MaxAbsScaler)\n",
    "\n",
    "Key Observations:\n",
    "\n",
    "**Before scaling,** income had a large impact, meaning financial-based neighbors often had the smallest distances. **After scaling,** the importance of different features was balanced, producing different neighbor selections.\n",
    "\n",
    "Manhattan distance produced different neighbors than Euclidean, confirming that the choice of distance metric impacts similarity calculations."
   ]
  },
  {
   "cell_type": "markdown",
   "metadata": {},
   "source": [
    "**Does the data being not scaled affect the kNN algorithm? If so, how does that appear?** \n",
    "\n",
    "**Unscaled comparison**:\n",
    "- The distances in the unscaled Euclidean version are large because income has such large values.\n",
    "- The neighbors' ages and family members are similar.\n",
    "\n",
    "**Scaled comparison**:\n",
    "- The distances are much smaller. \n",
    "- All values are between 0 and 1 (thanks to MaxAbsScaler).\n",
    "- Now, no single feature (like income) dominates the distance calculations.\n",
    "- Neighbors are more evenly distributed across different features (not just based on income similarity).\n",
    "\n",
    "**How similar are the results using the Manhattan distance metric (regardless of the scaling)?** \n",
    "\n",
    "Using the data below, the scaling changed the closest row numbers. The distances are much smaller after scaling.  And the second closest neighbor changed with scaling. "
   ]
  },
  {
   "cell_type": "code",
   "execution_count": 24,
   "metadata": {},
   "outputs": [
    {
     "data": {
      "text/html": [
       "<div>\n",
       "<style scoped>\n",
       "    .dataframe tbody tr th:only-of-type {\n",
       "        vertical-align: middle;\n",
       "    }\n",
       "\n",
       "    .dataframe tbody tr th {\n",
       "        vertical-align: top;\n",
       "    }\n",
       "\n",
       "    .dataframe thead th {\n",
       "        text-align: right;\n",
       "    }\n",
       "</style>\n",
       "<table border=\"1\" class=\"dataframe\">\n",
       "  <thead>\n",
       "    <tr style=\"text-align: right;\">\n",
       "      <th></th>\n",
       "      <th>gender</th>\n",
       "      <th>age</th>\n",
       "      <th>income</th>\n",
       "      <th>family_members</th>\n",
       "      <th>insurance_benefits</th>\n",
       "    </tr>\n",
       "  </thead>\n",
       "  <tbody>\n",
       "    <tr>\n",
       "      <th>0</th>\n",
       "      <td>1</td>\n",
       "      <td>41</td>\n",
       "      <td>49600.0</td>\n",
       "      <td>1</td>\n",
       "      <td>0</td>\n",
       "    </tr>\n",
       "    <tr>\n",
       "      <th>1</th>\n",
       "      <td>0</td>\n",
       "      <td>46</td>\n",
       "      <td>38000.0</td>\n",
       "      <td>1</td>\n",
       "      <td>1</td>\n",
       "    </tr>\n",
       "    <tr>\n",
       "      <th>2</th>\n",
       "      <td>0</td>\n",
       "      <td>29</td>\n",
       "      <td>21000.0</td>\n",
       "      <td>0</td>\n",
       "      <td>0</td>\n",
       "    </tr>\n",
       "    <tr>\n",
       "      <th>3</th>\n",
       "      <td>0</td>\n",
       "      <td>21</td>\n",
       "      <td>41700.0</td>\n",
       "      <td>2</td>\n",
       "      <td>0</td>\n",
       "    </tr>\n",
       "    <tr>\n",
       "      <th>4</th>\n",
       "      <td>1</td>\n",
       "      <td>28</td>\n",
       "      <td>26100.0</td>\n",
       "      <td>0</td>\n",
       "      <td>0</td>\n",
       "    </tr>\n",
       "  </tbody>\n",
       "</table>\n",
       "</div>"
      ],
      "text/plain": [
       "   gender  age   income  family_members  insurance_benefits\n",
       "0       1   41  49600.0               1                   0\n",
       "1       0   46  38000.0               1                   1\n",
       "2       0   29  21000.0               0                   0\n",
       "3       0   21  41700.0               2                   0\n",
       "4       1   28  26100.0               0                   0"
      ]
     },
     "execution_count": 24,
     "metadata": {},
     "output_type": "execute_result"
    }
   ],
   "source": [
    "df.head()"
   ]
  },
  {
   "cell_type": "code",
   "execution_count": 25,
   "metadata": {},
   "outputs": [
    {
     "name": "stderr",
     "output_type": "stream",
     "text": [
      "/Users/lrw/anaconda3/lib/python3.11/site-packages/sklearn/base.py:493: UserWarning: X does not have valid feature names, but NearestNeighbors was fitted with feature names\n",
      "  warnings.warn(\n",
      "/Users/lrw/anaconda3/lib/python3.11/site-packages/sklearn/base.py:493: UserWarning: X does not have valid feature names, but NearestNeighbors was fitted with feature names\n",
      "  warnings.warn(\n"
     ]
    },
    {
     "data": {
      "text/html": [
       "<div>\n",
       "<style scoped>\n",
       "    .dataframe tbody tr th:only-of-type {\n",
       "        vertical-align: middle;\n",
       "    }\n",
       "\n",
       "    .dataframe tbody tr th {\n",
       "        vertical-align: top;\n",
       "    }\n",
       "\n",
       "    .dataframe thead th {\n",
       "        text-align: right;\n",
       "    }\n",
       "</style>\n",
       "<table border=\"1\" class=\"dataframe\">\n",
       "  <thead>\n",
       "    <tr style=\"text-align: right;\">\n",
       "      <th></th>\n",
       "      <th>Neighbor Rank</th>\n",
       "      <th>Unscaled Row #</th>\n",
       "      <th>Unscaled Distance</th>\n",
       "      <th>Scaled Row #</th>\n",
       "      <th>Scaled Distance</th>\n",
       "    </tr>\n",
       "  </thead>\n",
       "  <tbody>\n",
       "    <tr>\n",
       "      <th>0</th>\n",
       "      <td>1</td>\n",
       "      <td>2975</td>\n",
       "      <td>0.0</td>\n",
       "      <td>2975</td>\n",
       "      <td>0.000000</td>\n",
       "    </tr>\n",
       "    <tr>\n",
       "      <th>1</th>\n",
       "      <td>2</td>\n",
       "      <td>4793</td>\n",
       "      <td>0.0</td>\n",
       "      <td>4793</td>\n",
       "      <td>0.000000</td>\n",
       "    </tr>\n",
       "    <tr>\n",
       "      <th>2</th>\n",
       "      <td>3</td>\n",
       "      <td>1108</td>\n",
       "      <td>3.0</td>\n",
       "      <td>3447</td>\n",
       "      <td>0.021714</td>\n",
       "    </tr>\n",
       "    <tr>\n",
       "      <th>3</th>\n",
       "      <td>4</td>\n",
       "      <td>2307</td>\n",
       "      <td>4.0</td>\n",
       "      <td>1806</td>\n",
       "      <td>0.021714</td>\n",
       "    </tr>\n",
       "    <tr>\n",
       "      <th>4</th>\n",
       "      <td>5</td>\n",
       "      <td>3136</td>\n",
       "      <td>4.0</td>\n",
       "      <td>3135</td>\n",
       "      <td>0.025511</td>\n",
       "    </tr>\n",
       "  </tbody>\n",
       "</table>\n",
       "</div>"
      ],
      "text/plain": [
       "   Neighbor Rank  Unscaled Row #  Unscaled Distance  Scaled Row #  \\\n",
       "0              1            2975                0.0          2975   \n",
       "1              2            4793                0.0          4793   \n",
       "2              3            1108                3.0          3447   \n",
       "3              4            2307                4.0          1806   \n",
       "4              5            3136                4.0          3135   \n",
       "\n",
       "   Scaled Distance  \n",
       "0         0.000000  \n",
       "1         0.000000  \n",
       "2         0.021714  \n",
       "3         0.021714  \n",
       "4         0.025511  "
      ]
     },
     "execution_count": 25,
     "metadata": {},
     "output_type": "execute_result"
    }
   ],
   "source": [
    "# Creating a comparison df - v2\n",
    "# Define the feature subset to analyze\n",
    "feature_subset = ['gender', 'age', 'income', 'family_members']\n",
    "\n",
    "# Store original indices before any transformation\n",
    "df_original = df.copy()\n",
    "df_original[\"Original Index\"] = df.index  # ✅ Preserve original row numbers\n",
    "\n",
    "# Get nearest neighbors for unscaled data\n",
    "df_res_unscaled = get_knn(df_original, n, k, metric=\"manhattan\", feature_subset=feature_subset)\n",
    "\n",
    "# Extract the correct original row indices\n",
    "unscaled_indices = df_original.iloc[df_res_unscaled.index][\"Original Index\"].values  \n",
    "\n",
    "# Scale only the selected feature subset\n",
    "scaler = MaxAbsScaler()\n",
    "df_scaled_subset = df_original.copy()\n",
    "df_scaled_subset[feature_subset] = scaler.fit_transform(df_scaled_subset[feature_subset])\n",
    "\n",
    "# Get nearest neighbors for scaled data\n",
    "df_res_scaled = get_knn(df_scaled_subset, n, k, metric=\"manhattan\", feature_subset=feature_subset)\n",
    "\n",
    "# Extract the correct original row indices for scaled neighbors\n",
    "scaled_indices = df_original.iloc[df_res_scaled.index][\"Original Index\"].values  \n",
    "\n",
    "# Create a comparison table without the 'Changed?' column\n",
    "comparison_df = pd.DataFrame({\n",
    "    \"Neighbor Rank\": range(1, k+1),\n",
    "    \"Unscaled Row #\": unscaled_indices,\n",
    "    \"Unscaled Distance\": df_res_unscaled[\"distance\"].values,\n",
    "    \"Scaled Row #\": scaled_indices,\n",
    "    \"Scaled Distance\": df_res_scaled[\"distance\"].values\n",
    "})\n",
    "\n",
    "comparison_df"
   ]
  },
  {
   "cell_type": "markdown",
   "metadata": {},
   "source": [
    "# Task 2. Is Customer Likely to Receive Insurance Benefit?"
   ]
  },
  {
   "cell_type": "markdown",
   "metadata": {},
   "source": [
    "In terms of machine learning we can look at this like a binary classification task."
   ]
  },
  {
   "cell_type": "markdown",
   "metadata": {},
   "source": [
    "With `insurance_benefits` being more than zero as the target, evaluate whether the kNN classification approach can do better than a dummy model.\n",
    "\n",
    "Instructions:\n",
    "- Build a KNN-based classifier and measure its quality with the F1 metric for k=1..10 for both the original data and the scaled one. That'd be interesting to see how k may influece the evaluation metric, and whether scaling the data makes any difference. You can use a ready implemention of the kNN classification algorithm from scikit-learn (check [the link](https://scikit-learn.org/stable/modules/generated/sklearn.neighbors.KNeighborsClassifier.html)) or use your own.\n",
    "- Build the dummy model which is just random for this case. It should return \"1\" with some probability. Let's test the model with four probability values: 0, the probability of paying any insurance benefit, 0.5, 1.\n",
    "\n",
    "The probability of paying any insurance benefit can be defined as\n",
    "\n",
    "$$\n",
    "P\\{\\text{insurance benefit received}\\}=\\frac{\\text{number of clients received any insurance benefit}}{\\text{total number of clients}}.\n",
    "$$\n",
    "\n",
    "Split the whole data in the 70:30 proportion for the training/testing parts."
   ]
  },
  {
   "cell_type": "code",
   "execution_count": 26,
   "metadata": {},
   "outputs": [],
   "source": [
    "df_task2 = df.copy()\n",
    "df_scaled_task2 = df_scaled_subset.copy()"
   ]
  },
  {
   "cell_type": "markdown",
   "metadata": {},
   "source": [
    "**Exploring the insurance benefits column**:"
   ]
  },
  {
   "cell_type": "code",
   "execution_count": 27,
   "metadata": {
    "scrolled": true
   },
   "outputs": [
    {
     "data": {
      "text/plain": [
       "insurance_benefits_received\n",
       "False    4436\n",
       "True      564\n",
       "Name: count, dtype: int64"
      ]
     },
     "execution_count": 27,
     "metadata": {},
     "output_type": "execute_result"
    }
   ],
   "source": [
    "# Unscaled - Calculate the target \n",
    "df_task2['insurance_benefits_received'] = df_task2['insurance_benefits'] > 0\n",
    "\n",
    "# Check for the class imbalance with value_counts()\n",
    "df_task2['insurance_benefits_received'].value_counts()"
   ]
  },
  {
   "cell_type": "code",
   "execution_count": 28,
   "metadata": {},
   "outputs": [
    {
     "data": {
      "text/plain": [
       "insurance_benefits_received\n",
       "False    4436\n",
       "True      564\n",
       "Name: count, dtype: int64"
      ]
     },
     "execution_count": 28,
     "metadata": {},
     "output_type": "execute_result"
    }
   ],
   "source": [
    "# Scaled - calculate the target\n",
    "df_scaled_task2['insurance_benefits_received'] = df_scaled_task2['insurance_benefits'] > 0\n",
    "\n",
    "# Check for the class imbalance with value_counts()\n",
    "df_scaled_task2['insurance_benefits_received'].value_counts()"
   ]
  },
  {
   "cell_type": "markdown",
   "metadata": {},
   "source": [
    "We have an imbalance here. Since kNNClassifier doesn't support `class_weights` I'll use random oversampling. "
   ]
  },
  {
   "cell_type": "markdown",
   "metadata": {},
   "source": [
    "(I quickly realized a function would help organize things moving forward, so I added that in too.)"
   ]
  },
  {
   "cell_type": "code",
   "execution_count": 29,
   "metadata": {},
   "outputs": [],
   "source": [
    "# Define features\n",
    "feature_names = ['gender', 'age', 'income', 'family_members']"
   ]
  },
  {
   "cell_type": "code",
   "execution_count": 30,
   "metadata": {},
   "outputs": [],
   "source": [
    "def prepare_data(df_name, feature_names, test_size=.30, random_state=123, oversample=True):\n",
    "    \"\"\" \n",
    "    Prepares the dataset: Extracts features, splits into train-test sets, applies random oversampling if True\n",
    "    \n",
    "    Parameters:\n",
    "    df_name: The DataFrame to process\n",
    "    feature_names: List of feature column names\n",
    "    test_size: Proportion of data to use for testing\n",
    "    random_state: Random seed for reproducibility\n",
    "    \n",
    "    Returns:\n",
    "    X_train, X_test, y_train, y_test (arrays): Processed train-test split.\n",
    "    \"\"\"\n",
    "    # Choose the correct dataframe based on the input\n",
    "    if df_name == 'df_scaled_task2':\n",
    "        df = df_scaled_task2.copy()\n",
    "    elif df_name == 'df_task2':\n",
    "        df = df_task2.copy()\n",
    "    else:\n",
    "        raise ValueError(\"Invalid dataframe name. Choose 'df_scaled_task2' or 'df_task2'.\")\n",
    "\n",
    "    \n",
    "    \n",
    "    # Define target\n",
    "    df['insurance_benefits_received'] = df['insurance_benefits'] > 0\n",
    "    \n",
    "    # Select features and target\n",
    "    X = df[feature_names]\n",
    "    y = df['insurance_benefits_received']\n",
    "\n",
    "    # Split the data\n",
    "    X_train, X_test, y_train, y_test = train_test_split(X, y, test_size=test_size, random_state=random_state)\n",
    "    \n",
    "    \n",
    "    # Apply Random Oversampling if needed\n",
    "    if oversample:\n",
    "        # Separate majority and minority classes\n",
    "        df_train = X_train.copy()\n",
    "        df_train['insurance_benefits_received'] = y_train\n",
    "\n",
    "        majority = df_train[df_train['insurance_benefits_received'] == 0]\n",
    "        minority = df_train[df_train['insurance_benefits_received'] == 1]\n",
    "\n",
    "        # Oversample minority class\n",
    "        minority_upsampled = resample(minority,\n",
    "                                      replace=True,  \n",
    "                                      n_samples=len(majority),  \n",
    "                                      random_state=random_state)\n",
    "\n",
    "        # Combine back\n",
    "        df_balanced = pd.concat([majority, minority_upsampled])\n",
    "\n",
    "        # Extract new X_train and y_train\n",
    "        X_train = df_balanced[feature_names]\n",
    "        y_train = df_balanced['insurance_benefits_received']\n",
    "\n",
    "    return X_train, X_test, y_train, y_test"
   ]
  },
  {
   "cell_type": "code",
   "execution_count": 31,
   "metadata": {},
   "outputs": [],
   "source": [
    "# Prepare unscaled data\n",
    "X_train_unscaled, X_test_unscaled, y_train_unscaled, y_test_unscaled = prepare_data('df_task2', feature_names)\n",
    "\n",
    "# Prepare scaled data\n",
    "X_scaled_train, X_scaled_test, y_scaled_train, y_test_scaled = prepare_data('df_scaled_task2', feature_names)"
   ]
  },
  {
   "cell_type": "markdown",
   "metadata": {},
   "source": [
    "**Prepping the scaled data for the model**:"
   ]
  },
  {
   "cell_type": "markdown",
   "metadata": {},
   "source": [
    "I wasn't sure which option to use for weights, so I experimented with both weights='uniform' and weights='distance'. It turns out that weights='distance' performed better, so I decided to move forward with that option. \n",
    "\n",
    "**Creating our kNN classifier and pairing that with the evaluation metric, F1 score**"
   ]
  },
  {
   "cell_type": "code",
   "execution_count": 32,
   "metadata": {},
   "outputs": [],
   "source": [
    "# kNN classifier predicts a class label for a given input\n",
    "\n",
    "def get_kNN_label(X_train, X_test, y_train, k, metric):\n",
    "    \n",
    "    knn_clf = KNeighborsClassifier(n_neighbors=k, weights='distance', algorithm='auto', metric=metric)\n",
    "    knn_clf.fit(X_train, y_train)\n",
    "    y_pred = knn_clf.predict(X_test)\n",
    "    \n",
    "    return y_pred"
   ]
  },
  {
   "cell_type": "code",
   "execution_count": 33,
   "metadata": {},
   "outputs": [],
   "source": [
    "def eval_classifier(y_true, y_pred):\n",
    "    \n",
    "    f1_score = sklearn.metrics.f1_score(y_true, y_pred)\n",
    "    print(f'F1: {f1_score:.2f}')\n",
    "    \n",
    "# if you have an issue with the following line, restart the kernel and run the notebook again\n",
    "    cm = sklearn.metrics.confusion_matrix(y_true, y_pred, normalize='all')\n",
    "    print('Confusion Matrix')\n",
    "    print(cm)"
   ]
  },
  {
   "cell_type": "code",
   "execution_count": 34,
   "metadata": {
    "scrolled": true
   },
   "outputs": [],
   "source": [
    "# # Testing the kNN classifier function\n",
    "# y_pred = get_kNN_label(df, k=3, n=0, metric='minkowski')\n",
    "# eval_classifier(y_test, y_pred)"
   ]
  },
  {
   "cell_type": "code",
   "execution_count": 35,
   "metadata": {},
   "outputs": [
    {
     "name": "stdout",
     "output_type": "stream",
     "text": [
      "k= 1 Unscaled F1 score: 0.6666666666666666 Scaled f1 score: 0.9492537313432836\n",
      "k= 2 Unscaled F1 score: 0.6666666666666666 Scaled f1 score: 0.9492537313432836\n",
      "k= 3 Unscaled F1 score: 0.63125 Scaled f1 score: 0.9507246376811594\n",
      "k= 4 Unscaled F1 score: 0.6299694189602446 Scaled f1 score: 0.9510086455331412\n",
      "k= 5 Unscaled F1 score: 0.6064139941690962 Scaled f1 score: 0.9485714285714286\n",
      "k= 6 Unscaled F1 score: 0.5949008498583569 Scaled f1 score: 0.9355742296918768\n",
      "k= 7 Unscaled F1 score: 0.5895316804407713 Scaled f1 score: 0.9362880886426593\n",
      "k= 8 Unscaled F1 score: 0.5602094240837696 Scaled f1 score: 0.9285714285714286\n",
      "k= 9 Unscaled F1 score: 0.5431472081218274 Scaled f1 score: 0.9205479452054794\n",
      "k= 10 Unscaled F1 score: 0.5297029702970297 Scaled f1 score: 0.9155313351498637\n"
     ]
    }
   ],
   "source": [
    "# Running the test for k=1 to k=10 and comparing f1 scores\n",
    "\n",
    "# Create a dictionary for the f1 scores\n",
    "f1_scores_unscaled={}\n",
    "f1_scores_scaled={}\n",
    "\n",
    "for k in range(1,11):\n",
    "    # Unscaled data\n",
    "    y_pred_unscaled = get_kNN_label(X_train_unscaled, X_test_unscaled, y_train_unscaled, k, metric='minkowski')\n",
    "    f1_unscaled = sklearn.metrics.f1_score(y_test_unscaled, y_pred_unscaled)\n",
    "   \n",
    "    # Scaled data\n",
    "    y_pred_scaled = get_kNN_label(X_scaled_train, X_scaled_test, y_scaled_train, k, metric='minkowski')\n",
    "    f1_scaled = sklearn.metrics.f1_score(y_test_scaled, y_pred_scaled)\n",
    "\n",
    "    \n",
    "    print(\"k=\", k, \"Unscaled F1 score:\", f1_unscaled, \"Scaled f1 score:\", f1_scaled)"
   ]
  },
  {
   "cell_type": "markdown",
   "metadata": {},
   "source": []
  },
  {
   "cell_type": "markdown",
   "metadata": {},
   "source": [
    "**Conclusions from the kNN Classifier and the F1 score**\n",
    "\n",
    "The F1 scores are significantly higher for the sampled data and using oversampling to address the imbalance.\n",
    "\n",
    "**Unscaled data:**\n",
    "- Lower k (1-4) performs best.\n",
    "- Higher k values have lower F1 scores, meaning larger neighborhoods reduce performance. \n",
    "\n",
    "**Scaled data:**\n",
    "- Lower k distance scores performed better. \n",
    "- After k=5 peformance dropped slightly, but still performs better than unscaled. \n",
    "\n",
    "I think we could recommend a k value of 3-5 for optimal performance. \n"
   ]
  },
  {
   "cell_type": "markdown",
   "metadata": {},
   "source": [
    "**Integrating the dummy model**"
   ]
  },
  {
   "cell_type": "code",
   "execution_count": 36,
   "metadata": {},
   "outputs": [],
   "source": [
    "# generating output of a random model - random number generator\n",
    "\n",
    "def rnd_model_predict(P, size, seed=42):\n",
    "\n",
    "    rng = np.random.default_rng(seed=seed)\n",
    "    return rng.binomial(n=1, p=P, size=size)"
   ]
  },
  {
   "cell_type": "code",
   "execution_count": 37,
   "metadata": {},
   "outputs": [
    {
     "name": "stdout",
     "output_type": "stream",
     "text": [
      "The probability: 0.00\n",
      "F1: 0.00\n",
      "Confusion Matrix\n",
      "[[0.8872 0.    ]\n",
      " [0.1128 0.    ]]\n",
      "\n",
      "The probability: 0.11\n",
      "F1: 0.12\n",
      "Confusion Matrix\n",
      "[[0.7914 0.0958]\n",
      " [0.0994 0.0134]]\n",
      "\n",
      "The probability: 0.50\n",
      "F1: 0.20\n",
      "Confusion Matrix\n",
      "[[0.456  0.4312]\n",
      " [0.053  0.0598]]\n",
      "\n",
      "The probability: 1.00\n",
      "F1: 0.20\n",
      "Confusion Matrix\n",
      "[[0.     0.8872]\n",
      " [0.     0.1128]]\n",
      "\n"
     ]
    }
   ],
   "source": [
    "for P in [0, df_task2['insurance_benefits_received'].sum() / len(df_task2), 0.5, 1]:\n",
    "\n",
    "    print(f'The probability: {P:.2f}')\n",
    "    y_pred_rnd = rnd_model_predict(P, size=len(df_task2), seed=42)\n",
    "        \n",
    "    eval_classifier(df_task2['insurance_benefits_received'], y_pred_rnd)\n",
    "    \n",
    "    print()"
   ]
  },
  {
   "cell_type": "markdown",
   "metadata": {},
   "source": [
    "**Does the trained KNN model do better than the dummy model?** \n",
    "Yes, significantly. The best kNN models (scaled) has an F1 score of ~0.95 and the best dummy model score is 0.20. \n",
    "\n",
    "**Can the kNN model do worse than the dummy model?**\n",
    "No. Even the unscaled kNN model with F1 scores starting at 0.53 outperform the dummy model. \n",
    "\n",
    "**Is a customer likely to receive an insurance benefit?** \n",
    "No. We know this because: \n",
    "\n",
    "- There is a class imbalance for the number of clients who received an insurance benefit. \n",
    "- When the dummy model predicted \"0\" for everyone, 88% of people did not receive a benefit. \n",
    "- When the dummy model predicted \"1\" for everyone, it misclassified cases.\n",
    "\n",
    "- Even though the kNN model perforemed well, it still showed that most people don't receive a benefit. \n",
    "\n",
    "**Key conclusions:** \n",
    "- A trained model clearly outperforms an untrained dummy model.\n",
    "- Scaling matters: The difference in performance between scaled and unscaled kNN is large.\n",
    "- Dummy models are not effective: They lack real predictive power and perform much worse than kNN."
   ]
  },
  {
   "cell_type": "markdown",
   "metadata": {},
   "source": [
    "# Task 3. Regression (with Linear Regression)"
   ]
  },
  {
   "cell_type": "markdown",
   "metadata": {},
   "source": [
    "With `insurance_benefits` as the target, evaluate what RMSE would be for a Linear Regression model."
   ]
  },
  {
   "cell_type": "markdown",
   "metadata": {},
   "source": [
    "Build your own implementation of LR. For that, recall how the linear regression task's solution is formulated in terms of LA. Check RMSE for both the original data and the scaled one. Can you see any difference in RMSE between these two cases?\n",
    "\n",
    "Let's denote\n",
    "- $X$ — feature matrix, each row is a case, each column is a feature, the first column consists of unities\n",
    "- $y$ — target (a vector)\n",
    "- $\\hat{y}$ — estimated tagret (a vector)\n",
    "- $w$ — weight vector\n",
    "\n",
    "The task of linear regression in the language of matrices can be formulated as\n",
    "\n",
    "$$\n",
    "y = Xw\n",
    "$$\n",
    "\n",
    "The training objective then is to find such $w$ that it would minimize the L2-distance (MSE) between $Xw$ and $y$:\n",
    "\n",
    "$$\n",
    "\\min_w d_2(Xw, y) \\quad \\text{or} \\quad \\min_w \\text{MSE}(Xw, y)\n",
    "$$\n",
    "\n",
    "It appears that there is analytical solution for the above:\n",
    "\n",
    "$$\n",
    "w = (X^T X)^{-1} X^T y\n",
    "$$\n",
    "\n",
    "The formula above can be used to find the weights $w$ and the latter can be used to calculate predicted values\n",
    "\n",
    "$$\n",
    "\\hat{y} = X_{val}w\n",
    "$$"
   ]
  },
  {
   "cell_type": "markdown",
   "metadata": {},
   "source": [
    "Split the whole data in the 70:30 proportion for the training/validation parts. Use the RMSE metric for the model evaluation."
   ]
  },
  {
   "cell_type": "code",
   "execution_count": null,
   "metadata": {},
   "outputs": [],
   "source": []
  },
  {
   "cell_type": "code",
   "execution_count": 38,
   "metadata": {},
   "outputs": [],
   "source": [
    "class MyLinearRegression:\n",
    "    \"\"\" Find the best weights to make predictions by minimizing MSE\"\"\"\n",
    "    def __init__(self):\n",
    "        \n",
    "        self.weights = None\n",
    "    \n",
    "    def fit(self, X, y): \n",
    "        \n",
    "        # adding the unities\n",
    "        X2 = np.append(np.ones([len(X), 1]), X, axis=1) # Create a column of ones, place colunm left of X\n",
    "        self.weights = np.linalg.inv(X2.T.dot(X2)).dot(X2.T).dot(y) # apply normal equation to solve for w\n",
    "\n",
    "    def predict(self, X):\n",
    "        \n",
    "        # adding the unities\n",
    "        X2 = np.append(np.ones([len(X), 1]), X, axis=1)\n",
    "        y_pred = X2 @ self.weights # predicting y using learned self.weights\n",
    "        \n",
    "        return y_pred"
   ]
  },
  {
   "cell_type": "code",
   "execution_count": 39,
   "metadata": {},
   "outputs": [],
   "source": [
    "def eval_regressor(y_true, y_pred):\n",
    "    \n",
    "    rmse = math.sqrt(mean_squared_error(y_true, y_pred))\n",
    "    print(f'RMSE: {rmse:.2f}')\n",
    "    \n",
    "    r2_score = sklearn.metrics.r2_score(y_true, y_pred)\n",
    "    print(f'R2: {r2_score:.2f}')    "
   ]
  },
  {
   "cell_type": "code",
   "execution_count": null,
   "metadata": {},
   "outputs": [],
   "source": []
  },
  {
   "cell_type": "code",
   "execution_count": 40,
   "metadata": {
    "scrolled": false
   },
   "outputs": [
    {
     "name": "stdout",
     "output_type": "stream",
     "text": [
      "[-9.43539012e-01  3.57495491e-02  1.64272726e-02 -2.60743659e-07\n",
      " -1.16902127e-02]\n",
      "RMSE: 0.34\n",
      "R2: 0.43\n"
     ]
    }
   ],
   "source": [
    "# Unscaled data\n",
    "# Define the training data (X) and target values (y)\n",
    "X = df[['age', 'gender', 'income', 'family_members']].to_numpy()\n",
    "y = df['insurance_benefits'].to_numpy()\n",
    "\n",
    "# Splitting\n",
    "X_train, X_test, y_train, y_test = train_test_split(X, y, test_size=0.3, random_state=12345)\n",
    "\n",
    "# Initialize the custom model\n",
    "lr = MyLinearRegression()\n",
    "\n",
    "# Train the model\n",
    "lr.fit(X_train, y_train)\n",
    "\n",
    "# Print the learned weights\n",
    "print(lr.weights)\n",
    "\n",
    "# Predict outcomes for the new data\n",
    "y_test_pred = lr.predict(X_test)\n",
    "eval_regressor(y_test, y_test_pred)"
   ]
  },
  {
   "cell_type": "code",
   "execution_count": 41,
   "metadata": {},
   "outputs": [
    {
     "name": "stdout",
     "output_type": "stream",
     "text": [
      "[-0.94353901  2.32372069  0.01642727 -0.02059875 -0.07014128]\n",
      "RMSE: 0.34\n",
      "R2: 0.43\n"
     ]
    }
   ],
   "source": [
    "# Scaled data\n",
    "# Define the training data (X) and target values (y)\n",
    "X_scaled = df_scaled_subset[['age', 'gender', 'income', 'family_members']].to_numpy()\n",
    "y_scaled = df_scaled_subset['insurance_benefits'].to_numpy()\n",
    "\n",
    "# Splitting\n",
    "X_scaled_train, X_scaled_test, y_scaled_train, y_scaled_test = train_test_split(X_scaled, y_scaled, test_size=0.3, random_state=12345)\n",
    "\n",
    "# Initialize the custom model\n",
    "lr = MyLinearRegression()\n",
    "\n",
    "# Train the model\n",
    "lr.fit(X_scaled_train, y_scaled_train)\n",
    "\n",
    "# Print the learned weights\n",
    "print(lr.weights)\n",
    "\n",
    "# Predict outcomes for the new data\n",
    "y_test_scaled_pred = lr.predict(X_scaled_test)\n",
    "eval_regressor(y_scaled_test, y_test_scaled_pred)"
   ]
  },
  {
   "cell_type": "markdown",
   "metadata": {},
   "source": [
    "**Conclusions from the Linear Regression:**\n",
    "\n",
    "The RMSE and R2 scores are the same for both the scaled and unscaled data. \n",
    "\n",
    "This suggests that scaling the data didn't imact the overall predictive performance of who receives insurance benefits. \n",
    "\n",
    "Since linear regression operates on ratios between features, scaling does not affect performance metrics when applied consistently across all features."
   ]
  },
  {
   "cell_type": "markdown",
   "metadata": {},
   "source": [
    "**Expanding our regression comparison to Ridge and Lasso**"
   ]
  },
  {
   "cell_type": "code",
   "execution_count": 42,
   "metadata": {},
   "outputs": [
    {
     "name": "stdout",
     "output_type": "stream",
     "text": [
      "Unscaled Ridge: RMSE = 0.34355617314039266 R2 = 0.43052896739003643\n",
      "Scaled Ridge: RMSE = 0.3435725799458195 R2 = 0.43047457498346764\n"
     ]
    }
   ],
   "source": [
    "# Ridge\n",
    "\n",
    "# Define Ridge models\n",
    "ridge_unscaled = Ridge(alpha=1.0)\n",
    "ridge_scaled = Ridge(alpha=1.0)\n",
    "\n",
    "# Fit Ridge models\n",
    "ridge_unscaled.fit(X_train, y_train)\n",
    "ridge_scaled.fit(X_scaled_train, y_scaled_train)\n",
    "\n",
    "# Make predictions\n",
    "ridge_y_pred_unscaled = ridge_unscaled.predict(X_test)\n",
    "ridge_y_pred_scaled = ridge_scaled.predict(X_scaled_test)\n",
    "\n",
    "# Evaluate Ridge models\n",
    "ridge_rmse_unscaled = root_mean_squared_error(y_test, ridge_y_pred_unscaled)\n",
    "ridge_r2_unscaled = r2_score(y_test, ridge_y_pred_unscaled)\n",
    "\n",
    "ridge_rmse_scaled = root_mean_squared_error(y_scaled_test, ridge_y_pred_scaled)\n",
    "ridge_r2_scaled = r2_score(y_scaled_test, ridge_y_pred_scaled)\n",
    "\n",
    "# Print results\n",
    "print(\"Unscaled Ridge: RMSE =\", ridge_rmse_unscaled, \"R2 =\", ridge_r2_unscaled)\n",
    "print(\"Scaled Ridge: RMSE =\", ridge_rmse_scaled, \"R2 =\", ridge_r2_scaled)"
   ]
  },
  {
   "cell_type": "code",
   "execution_count": 43,
   "metadata": {},
   "outputs": [
    {
     "name": "stdout",
     "output_type": "stream",
     "text": [
      "Unscaled Lasso: RMSE = 0.3439846379513823 R2 = 0.4291076542643991\n",
      "Scaled Lasso: RMSE = 0.4552984219841142 R2 = -0.00015754333229356376\n"
     ]
    }
   ],
   "source": [
    "# Define Lasso models\n",
    "lasso_unscaled = Lasso(alpha=0.1)\n",
    "lasso_scaled = Lasso(alpha=0.1)\n",
    "\n",
    "# Fit Lasso models\n",
    "lasso_unscaled.fit(X_train, y_train)\n",
    "lasso_scaled.fit(X_scaled_train, y_scaled_train)\n",
    "\n",
    "# Make predictions\n",
    "lasso_y_pred_unscaled = lasso_unscaled.predict(X_test)\n",
    "lasso_y_pred_scaled = lasso_scaled.predict(X_scaled_test)\n",
    "\n",
    "# Evaluate Lasso models\n",
    "lasso_rmse_unscaled = root_mean_squared_error(y_test, lasso_y_pred_unscaled)\n",
    "lasso_r2_unscaled = r2_score(y_test, lasso_y_pred_unscaled)\n",
    "\n",
    "lasso_rmse_scaled = root_mean_squared_error(y_scaled_test, lasso_y_pred_scaled)\n",
    "lasso_r2_scaled = r2_score(y_scaled_test, lasso_y_pred_scaled)\n",
    "\n",
    "# Print results\n",
    "print(\"Unscaled Lasso: RMSE =\", lasso_rmse_unscaled, \"R2 =\", lasso_r2_unscaled)\n",
    "print(\"Scaled Lasso: RMSE =\", lasso_rmse_scaled, \"R2 =\", lasso_r2_scaled)"
   ]
  },
  {
   "cell_type": "markdown",
   "metadata": {},
   "source": [
    "# Task 4. Obfuscating Data"
   ]
  },
  {
   "cell_type": "markdown",
   "metadata": {},
   "source": [
    "It best to obfuscate data by multiplying the numerical features (remember, they can be seen as the matrix $X$) by an invertible matrix $P$. \n",
    "\n",
    "$$\n",
    "X' = X \\times P\n",
    "$$\n",
    "\n",
    "Try to do that and check how the features' values will look like after the transformation. By the way, the invertible property is important here so make sure that $P$ is indeed invertible.\n",
    "\n",
    "You may want to review the 'Matrices and Matrix Operations -> Matrix Multiplication' lesson to recall the rule of matrix multiplication and its implementation with NumPy."
   ]
  },
  {
   "cell_type": "code",
   "execution_count": 44,
   "metadata": {},
   "outputs": [],
   "source": [
    "personal_info_column_list = ['gender', 'age', 'income', 'family_members']\n",
    "df_pn = df[personal_info_column_list]"
   ]
  },
  {
   "cell_type": "code",
   "execution_count": 45,
   "metadata": {},
   "outputs": [],
   "source": [
    "X = df_pn.to_numpy()"
   ]
  },
  {
   "cell_type": "markdown",
   "metadata": {},
   "source": [
    "Generating a random matrix $P$."
   ]
  },
  {
   "cell_type": "code",
   "execution_count": 46,
   "metadata": {},
   "outputs": [],
   "source": [
    "rng = np.random.default_rng(seed=42)\n",
    "P = rng.random(size=(X.shape[1], X.shape[1]))"
   ]
  },
  {
   "cell_type": "markdown",
   "metadata": {},
   "source": [
    "Checking the matrix $P$ is invertible"
   ]
  },
  {
   "cell_type": "code",
   "execution_count": 47,
   "metadata": {
    "scrolled": true
   },
   "outputs": [
    {
     "data": {
      "text/plain": [
       "(4, 4)"
      ]
     },
     "execution_count": 47,
     "metadata": {},
     "output_type": "execute_result"
    }
   ],
   "source": [
    "# Check if P is square\n",
    "P.shape"
   ]
  },
  {
   "cell_type": "code",
   "execution_count": 48,
   "metadata": {
    "scrolled": true
   },
   "outputs": [
    {
     "name": "stdout",
     "output_type": "stream",
     "text": [
      "Inverse exists [[ 0.41467992 -1.43783972  0.62798546  1.14001268]\n",
      " [-1.06101789  0.44219337  0.1329549   1.18425933]\n",
      " [ 1.42362442  1.60461607 -2.0553823  -1.53699695]\n",
      " [-0.11128575 -0.65813802  1.74995517 -0.11816316]]\n"
     ]
    }
   ],
   "source": [
    "# Calculate the determinant\n",
    "determinant = np.linalg.det(P)\n",
    "\n",
    "# If determinant > 0, the matrix is invertible\n",
    "if determinant !=0:\n",
    "    inverse_P = np.linalg.inv(P)\n",
    "    print(\"Inverse exists\", inverse_P)\n",
    "else:\n",
    "    print(\"Inverse does not exist\")"
   ]
  },
  {
   "cell_type": "markdown",
   "metadata": {},
   "source": [
    "**Transforming X matrix**"
   ]
  },
  {
   "cell_type": "code",
   "execution_count": 49,
   "metadata": {},
   "outputs": [
    {
     "data": {
      "text/plain": [
       "(5000, 4)"
      ]
     },
     "execution_count": 49,
     "metadata": {},
     "output_type": "execute_result"
    }
   ],
   "source": [
    "X.shape"
   ]
  },
  {
   "cell_type": "code",
   "execution_count": 50,
   "metadata": {},
   "outputs": [],
   "source": [
    "# Transform X using P and observe how values change\n",
    "X_transformed = X @ P"
   ]
  },
  {
   "cell_type": "code",
   "execution_count": 51,
   "metadata": {},
   "outputs": [
    {
     "data": {
      "text/plain": [
       "(5000, 4)"
      ]
     },
     "execution_count": 51,
     "metadata": {},
     "output_type": "execute_result"
    }
   ],
   "source": [
    "# Check our work\n",
    "X_transformed.shape"
   ]
  },
  {
   "cell_type": "markdown",
   "metadata": {},
   "source": [
    "**Question:** Can you guess the customers' ages or income after the transformation?"
   ]
  },
  {
   "cell_type": "code",
   "execution_count": 52,
   "metadata": {
    "scrolled": false
   },
   "outputs": [
    {
     "data": {
      "text/html": [
       "<div>\n",
       "<style scoped>\n",
       "    .dataframe tbody tr th:only-of-type {\n",
       "        vertical-align: middle;\n",
       "    }\n",
       "\n",
       "    .dataframe tbody tr th {\n",
       "        vertical-align: top;\n",
       "    }\n",
       "\n",
       "    .dataframe thead th {\n",
       "        text-align: right;\n",
       "    }\n",
       "</style>\n",
       "<table border=\"1\" class=\"dataframe\">\n",
       "  <thead>\n",
       "    <tr style=\"text-align: right;\">\n",
       "      <th></th>\n",
       "      <th>gender</th>\n",
       "      <th>age</th>\n",
       "      <th>income</th>\n",
       "      <th>family_members</th>\n",
       "    </tr>\n",
       "  </thead>\n",
       "  <tbody>\n",
       "    <tr>\n",
       "      <th>0</th>\n",
       "      <td>1</td>\n",
       "      <td>41</td>\n",
       "      <td>49600.0</td>\n",
       "      <td>1</td>\n",
       "    </tr>\n",
       "    <tr>\n",
       "      <th>1</th>\n",
       "      <td>0</td>\n",
       "      <td>46</td>\n",
       "      <td>38000.0</td>\n",
       "      <td>1</td>\n",
       "    </tr>\n",
       "    <tr>\n",
       "      <th>2</th>\n",
       "      <td>0</td>\n",
       "      <td>29</td>\n",
       "      <td>21000.0</td>\n",
       "      <td>0</td>\n",
       "    </tr>\n",
       "    <tr>\n",
       "      <th>3</th>\n",
       "      <td>0</td>\n",
       "      <td>21</td>\n",
       "      <td>41700.0</td>\n",
       "      <td>2</td>\n",
       "    </tr>\n",
       "    <tr>\n",
       "      <th>4</th>\n",
       "      <td>1</td>\n",
       "      <td>28</td>\n",
       "      <td>26100.0</td>\n",
       "      <td>0</td>\n",
       "    </tr>\n",
       "    <tr>\n",
       "      <th>5</th>\n",
       "      <td>1</td>\n",
       "      <td>43</td>\n",
       "      <td>41000.0</td>\n",
       "      <td>2</td>\n",
       "    </tr>\n",
       "    <tr>\n",
       "      <th>6</th>\n",
       "      <td>1</td>\n",
       "      <td>39</td>\n",
       "      <td>39700.0</td>\n",
       "      <td>2</td>\n",
       "    </tr>\n",
       "    <tr>\n",
       "      <th>7</th>\n",
       "      <td>1</td>\n",
       "      <td>25</td>\n",
       "      <td>38600.0</td>\n",
       "      <td>4</td>\n",
       "    </tr>\n",
       "    <tr>\n",
       "      <th>8</th>\n",
       "      <td>1</td>\n",
       "      <td>36</td>\n",
       "      <td>49700.0</td>\n",
       "      <td>1</td>\n",
       "    </tr>\n",
       "    <tr>\n",
       "      <th>9</th>\n",
       "      <td>1</td>\n",
       "      <td>32</td>\n",
       "      <td>51700.0</td>\n",
       "      <td>1</td>\n",
       "    </tr>\n",
       "  </tbody>\n",
       "</table>\n",
       "</div>"
      ],
      "text/plain": [
       "   gender  age   income  family_members\n",
       "0       1   41  49600.0               1\n",
       "1       0   46  38000.0               1\n",
       "2       0   29  21000.0               0\n",
       "3       0   21  41700.0               2\n",
       "4       1   28  26100.0               0\n",
       "5       1   43  41000.0               2\n",
       "6       1   39  39700.0               2\n",
       "7       1   25  38600.0               4\n",
       "8       1   36  49700.0               1\n",
       "9       1   32  51700.0               1"
      ]
     },
     "execution_count": 52,
     "metadata": {},
     "output_type": "execute_result"
    }
   ],
   "source": [
    "# Compare the feature values before and after transformation\n",
    "df_original = df_pn # Before transformation\n",
    "df_original.head(10)"
   ]
  },
  {
   "cell_type": "code",
   "execution_count": 53,
   "metadata": {},
   "outputs": [
    {
     "data": {
      "text/html": [
       "<div>\n",
       "<style scoped>\n",
       "    .dataframe tbody tr th:only-of-type {\n",
       "        vertical-align: middle;\n",
       "    }\n",
       "\n",
       "    .dataframe tbody tr th {\n",
       "        vertical-align: top;\n",
       "    }\n",
       "\n",
       "    .dataframe thead th {\n",
       "        text-align: right;\n",
       "    }\n",
       "</style>\n",
       "<table border=\"1\" class=\"dataframe\">\n",
       "  <thead>\n",
       "    <tr style=\"text-align: right;\">\n",
       "      <th></th>\n",
       "      <th>gender_transformed</th>\n",
       "      <th>age_transformed</th>\n",
       "      <th>income_transformed</th>\n",
       "      <th>family_members_transformed</th>\n",
       "    </tr>\n",
       "  </thead>\n",
       "  <tbody>\n",
       "    <tr>\n",
       "      <th>0</th>\n",
       "      <td>6359.715273</td>\n",
       "      <td>22380.404676</td>\n",
       "      <td>18424.090742</td>\n",
       "      <td>46000.696690</td>\n",
       "    </tr>\n",
       "    <tr>\n",
       "      <th>1</th>\n",
       "      <td>4873.294065</td>\n",
       "      <td>17160.367030</td>\n",
       "      <td>14125.780761</td>\n",
       "      <td>35253.455773</td>\n",
       "    </tr>\n",
       "    <tr>\n",
       "      <th>2</th>\n",
       "      <td>2693.117429</td>\n",
       "      <td>9486.397744</td>\n",
       "      <td>7808.831560</td>\n",
       "      <td>19484.860631</td>\n",
       "    </tr>\n",
       "    <tr>\n",
       "      <th>3</th>\n",
       "      <td>5345.603937</td>\n",
       "      <td>18803.227203</td>\n",
       "      <td>15479.148373</td>\n",
       "      <td>38663.061863</td>\n",
       "    </tr>\n",
       "    <tr>\n",
       "      <th>4</th>\n",
       "      <td>3347.176735</td>\n",
       "      <td>11782.829283</td>\n",
       "      <td>9699.998942</td>\n",
       "      <td>24211.273378</td>\n",
       "    </tr>\n",
       "    <tr>\n",
       "      <th>5</th>\n",
       "      <td>5258.770252</td>\n",
       "      <td>18509.859617</td>\n",
       "      <td>15237.193427</td>\n",
       "      <td>38032.317153</td>\n",
       "    </tr>\n",
       "    <tr>\n",
       "      <th>6</th>\n",
       "      <td>5091.845820</td>\n",
       "      <td>17920.455408</td>\n",
       "      <td>14752.111437</td>\n",
       "      <td>36824.378411</td>\n",
       "    </tr>\n",
       "    <tr>\n",
       "      <th>7</th>\n",
       "      <td>4950.890072</td>\n",
       "      <td>17413.017686</td>\n",
       "      <td>14334.464483</td>\n",
       "      <td>35794.386500</td>\n",
       "    </tr>\n",
       "    <tr>\n",
       "      <th>8</th>\n",
       "      <td>6372.055750</td>\n",
       "      <td>22420.565158</td>\n",
       "      <td>18457.364846</td>\n",
       "      <td>46089.442868</td>\n",
       "    </tr>\n",
       "    <tr>\n",
       "      <th>9</th>\n",
       "      <td>6627.906306</td>\n",
       "      <td>23317.434545</td>\n",
       "      <td>19195.916335</td>\n",
       "      <td>47939.828588</td>\n",
       "    </tr>\n",
       "    <tr>\n",
       "      <th>10</th>\n",
       "      <td>4692.731211</td>\n",
       "      <td>16509.777526</td>\n",
       "      <td>13591.538192</td>\n",
       "      <td>33940.174806</td>\n",
       "    </tr>\n",
       "    <tr>\n",
       "      <th>11</th>\n",
       "      <td>3758.082133</td>\n",
       "      <td>13233.820508</td>\n",
       "      <td>10894.164017</td>\n",
       "      <td>27184.781985</td>\n",
       "    </tr>\n",
       "    <tr>\n",
       "      <th>12</th>\n",
       "      <td>5064.586165</td>\n",
       "      <td>17815.152146</td>\n",
       "      <td>14665.358413</td>\n",
       "      <td>36625.978255</td>\n",
       "    </tr>\n",
       "    <tr>\n",
       "      <th>13</th>\n",
       "      <td>7048.227521</td>\n",
       "      <td>24791.714654</td>\n",
       "      <td>20409.875267</td>\n",
       "      <td>50988.581737</td>\n",
       "    </tr>\n",
       "    <tr>\n",
       "      <th>14</th>\n",
       "      <td>5602.976707</td>\n",
       "      <td>19721.713142</td>\n",
       "      <td>16234.762661</td>\n",
       "      <td>40531.299824</td>\n",
       "    </tr>\n",
       "  </tbody>\n",
       "</table>\n",
       "</div>"
      ],
      "text/plain": [
       "    gender_transformed  age_transformed  income_transformed  \\\n",
       "0          6359.715273     22380.404676        18424.090742   \n",
       "1          4873.294065     17160.367030        14125.780761   \n",
       "2          2693.117429      9486.397744         7808.831560   \n",
       "3          5345.603937     18803.227203        15479.148373   \n",
       "4          3347.176735     11782.829283         9699.998942   \n",
       "5          5258.770252     18509.859617        15237.193427   \n",
       "6          5091.845820     17920.455408        14752.111437   \n",
       "7          4950.890072     17413.017686        14334.464483   \n",
       "8          6372.055750     22420.565158        18457.364846   \n",
       "9          6627.906306     23317.434545        19195.916335   \n",
       "10         4692.731211     16509.777526        13591.538192   \n",
       "11         3758.082133     13233.820508        10894.164017   \n",
       "12         5064.586165     17815.152146        14665.358413   \n",
       "13         7048.227521     24791.714654        20409.875267   \n",
       "14         5602.976707     19721.713142        16234.762661   \n",
       "\n",
       "    family_members_transformed  \n",
       "0                 46000.696690  \n",
       "1                 35253.455773  \n",
       "2                 19484.860631  \n",
       "3                 38663.061863  \n",
       "4                 24211.273378  \n",
       "5                 38032.317153  \n",
       "6                 36824.378411  \n",
       "7                 35794.386500  \n",
       "8                 46089.442868  \n",
       "9                 47939.828588  \n",
       "10                33940.174806  \n",
       "11                27184.781985  \n",
       "12                36625.978255  \n",
       "13                50988.581737  \n",
       "14                40531.299824  "
      ]
     },
     "execution_count": 53,
     "metadata": {},
     "output_type": "execute_result"
    }
   ],
   "source": [
    "df_transformed = pd.DataFrame(X_transformed, columns=[col + \"_transformed\" for col in personal_info_column_list])\n",
    "df_transformed.head(15)"
   ]
  },
  {
   "cell_type": "markdown",
   "metadata": {},
   "source": [
    "**Answer:** The data looks completely different. "
   ]
  },
  {
   "cell_type": "markdown",
   "metadata": {},
   "source": [
    "**Question:** Can you recover the original data from $X'$ if you know $P$? Try to check that with calculations by moving $P$ from the right side of the formula above to the left one. The rules of matrix multiplcation are really helpful here.\n",
    "\n",
    "To recover the data we need to multiple both sides by $P^{-1}$\n",
    "\n",
    "\n",
    "This is the formula:\n",
    "\n",
    "$$\n",
    "X=X ′⋅ P^{-1}\n",
    "$$"
   ]
  },
  {
   "cell_type": "code",
   "execution_count": 54,
   "metadata": {},
   "outputs": [],
   "source": [
    "# Calculate the inverse of P\n",
    "P_inv = np.linalg.inv(P)"
   ]
  },
  {
   "cell_type": "code",
   "execution_count": 55,
   "metadata": {},
   "outputs": [],
   "source": [
    "# Recovering the original X \n",
    "X_recovered = X_transformed @ P_inv"
   ]
  },
  {
   "cell_type": "code",
   "execution_count": 56,
   "metadata": {},
   "outputs": [],
   "source": [
    "df_recovered = pd.DataFrame(X_recovered, columns=[col + \"_recovered\" for col in personal_info_column_list])"
   ]
  },
  {
   "cell_type": "markdown",
   "metadata": {},
   "source": [
    "Print all three cases for a few customers\n",
    "- The original data\n",
    "- The transformed one\n",
    "- The reversed (recovered) one"
   ]
  },
  {
   "cell_type": "code",
   "execution_count": 57,
   "metadata": {},
   "outputs": [
    {
     "name": "stdout",
     "output_type": "stream",
     "text": [
      "Original data\n",
      "   gender  age   income  family_members\n",
      "0       1   41  49600.0               1\n",
      "1       0   46  38000.0               1\n",
      "2       0   29  21000.0               0\n",
      "3       0   21  41700.0               2\n",
      "4       1   28  26100.0               0\n",
      " \n",
      "Transformed data\n",
      "   gender_transformed  age_transformed  income_transformed  \\\n",
      "0         6359.715273     22380.404676        18424.090742   \n",
      "1         4873.294065     17160.367030        14125.780761   \n",
      "2         2693.117429      9486.397744         7808.831560   \n",
      "3         5345.603937     18803.227203        15479.148373   \n",
      "4         3347.176735     11782.829283         9699.998942   \n",
      "\n",
      "   family_members_transformed  \n",
      "0                46000.696690  \n",
      "1                35253.455773  \n",
      "2                19484.860631  \n",
      "3                38663.061863  \n",
      "4                24211.273378  \n",
      " \n",
      "Recovered data\n",
      "   gender_recovered  age_recovered  income_recovered  family_members_recovered\n",
      "0      1.000000e+00           41.0           49600.0              1.000000e+00\n",
      "1      1.645035e-12           46.0           38000.0              1.000000e+00\n",
      "2      9.255612e-13           29.0           21000.0              1.419408e-12\n",
      "3     -1.625635e-12           21.0           41700.0              2.000000e+00\n",
      "4      1.000000e+00           28.0           26100.0              4.917514e-13\n"
     ]
    }
   ],
   "source": [
    "# Compare the results\n",
    "print(\"Original data\")\n",
    "print(df_original.head())\n",
    "print(\" \")\n",
    "\n",
    "print(\"Transformed data\")\n",
    "print(df_transformed.head())\n",
    "print(\" \")\n",
    "\n",
    "print(\"Recovered data\")\n",
    "print(df_recovered.head())"
   ]
  },
  {
   "cell_type": "markdown",
   "metadata": {},
   "source": [
    "You can probably see that some values are not exactly the same as they are in the original data. What might be the reason for that?"
   ]
  },
  {
   "cell_type": "markdown",
   "metadata": {},
   "source": [
    "Because we were using floating arithmetic there is a change of data type and some precision errors. "
   ]
  },
  {
   "cell_type": "markdown",
   "metadata": {},
   "source": [
    "## Proof That Data Obfuscation Can Work with Linear Regression"
   ]
  },
  {
   "cell_type": "markdown",
   "metadata": {},
   "source": [
    "The regression task has been solved with linear regression in this project. Your next task is to prove _analytically_ that the given obfuscation method won't affect linear regression in terms of predicted values i.e. their values will remain the same. Can you believe that? Well, you don't have to, you should prove it!"
   ]
  },
  {
   "cell_type": "markdown",
   "metadata": {},
   "source": [
    "So, the data is obfuscated and there is $X \\times P$ instead of just $X$ now. Consequently, there are other weights $w_P$ as\n",
    "$$\n",
    "w = (X^T X)^{-1} X^T y \\quad \\Rightarrow \\quad w_P = [(XP)^T XP]^{-1} (XP)^T y\n",
    "$$\n",
    "\n",
    "How would $w$ and $w_P$ be linked if you simplify the formula for $w_P$ above? \n",
    "\n",
    "What would be predicted values with $w_P$? \n",
    "\n",
    "What does that mean for the quality of linear regression if you measure it with RMSE?\n",
    "\n",
    "Check Appendix B Properties of Matrices in the end of the notebook. There are useful formulas in there!\n",
    "\n",
    "No code is necessary in this section, only analytical explanation!"
   ]
  },
  {
   "cell_type": "markdown",
   "metadata": {},
   "source": [
    "**Answer**"
   ]
  },
  {
   "cell_type": "markdown",
   "metadata": {},
   "source": [
    "The predicted values remain unchanged under this transformation. P changes the weight vector, but the final predictions remain the same. \n",
    "\n",
    "Since the predicted values remain the same then the RMSE won't change. \n"
   ]
  },
  {
   "cell_type": "markdown",
   "metadata": {},
   "source": [
    "**Analytical proof**"
   ]
  },
  {
   "cell_type": "markdown",
   "metadata": {},
   "source": [
    "**How would $w$ and $w_P$ be linked if you simplify the formula for $w_P$ above?**\n",
    "\n",
    "1. Expand $w_P = [(XP)^T XP]^{-1} (XP)^T y$ :\n",
    "\n",
    "- Transposing a product reverses the order of the matrices.\n",
    "\n",
    "- Results in: $ w_P = [P^TX^TXP]^{-1} P^T X^T y$\n",
    "\n",
    "\n",
    "2. Factor out P\n",
    "- P is invertible, so we can apply the inverse to the formula.\n",
    "\n",
    "- Results in: $ w_P = P^{-1} (X^TX)^{-1}P^{-T}P^T X^T y$\n",
    "\n",
    "3. Cancel out $P^{-T}P^T$\n",
    "- Product of a matrix and its inverse transposed is the identity matrix, so we can cancel those out.\n",
    "- Results in: $ w_P = P^{-1}(X^TX)^{-1}X^T y$\n",
    "\n",
    "4. Substitute the original weight.\n",
    "- Since we know that $w = (X^T X)^{-1} X^T y$, we can substitute this in the formula. \n",
    "- Simplified formula is: $ w_P = P^{-1}w $\n"
   ]
  },
  {
   "cell_type": "markdown",
   "metadata": {},
   "source": [
    "**Predicted values**"
   ]
  },
  {
   "cell_type": "markdown",
   "metadata": {},
   "source": [
    "When making predictions with linear regression, the formula is: \n",
    "$$ \\hat{y}_P = (XP)w_P $$\n",
    "\n",
    "Next, substituting $ w_P = P^{-1}w $:\n",
    "\n",
    "- Results in $  \\hat{y}_P = (XP)P^{-1}w $\n",
    "\n",
    "Since $PP^{-1} = I$, this becomes: \n",
    "- $ \\hat{y}_P = XI_w $\n",
    "\n",
    "Since $XI = X$, we get:\n",
    "- $ \\hat{y}_P = X_w $ = $\\hat{y}$\n",
    "\n",
    "Confirming the predicted values remain unchanged despite transformation."
   ]
  },
  {
   "cell_type": "markdown",
   "metadata": {},
   "source": [
    "## Test Linear Regression With Data Obfuscation"
   ]
  },
  {
   "cell_type": "markdown",
   "metadata": {},
   "source": [
    "Now, let's prove Linear Regression can work computationally with the chosen obfuscation transformation.\n",
    "\n",
    "Build a procedure or a class that runs Linear Regression optionally with the obfuscation. You can use either a ready implementation of Linear Regression from sciki-learn or your own.\n",
    "\n",
    "Run Linear Regression for the original data and the obfuscated one, compare the predicted values and the RMSE, $R^2$ metric values. Is there any difference?"
   ]
  },
  {
   "cell_type": "markdown",
   "metadata": {},
   "source": [
    "**Procedure**\n",
    "\n",
    "- Create a square matrix $P$ of random numbers.\n",
    "- Check that it is invertible. If not, repeat the first point until we get an invertible matrix.\n",
    "- <! your comment here !>\n",
    "- Use $XP$ as the new feature matrix"
   ]
  },
  {
   "cell_type": "code",
   "execution_count": 58,
   "metadata": {},
   "outputs": [
    {
     "name": "stdout",
     "output_type": "stream",
     "text": [
      "Inverse exists [[ 0.41467992 -1.43783972  0.62798546  1.14001268]\n",
      " [-1.06101789  0.44219337  0.1329549   1.18425933]\n",
      " [ 1.42362442  1.60461607 -2.0553823  -1.53699695]\n",
      " [-0.11128575 -0.65813802  1.74995517 -0.11816316]]\n"
     ]
    }
   ],
   "source": [
    "# Original dataframe is df\n",
    "\n",
    "# Create a matrix \n",
    "X = df[['age', 'gender', 'income', 'family_members']].values \n",
    "y = df['insurance_benefits'].values\n",
    "\n",
    "# Create the square matrix, P\n",
    "rng = np.random.default_rng(seed=42)\n",
    "P = rng.random(size=(X.shape[1], X.shape[1]))\n",
    "\n",
    "# Make sure P is invertible, if not create a new P\n",
    "while np.linalg.det(P) == 0:\n",
    "    P = rng.random(size=(X.shape[1], X.shape[1]))\n",
    "\n",
    "inverse_P = np.linalg.inv(P)\n",
    "print(\"Inverse exists\", inverse_P)\n",
    "\n",
    "# Create the new feature matrix XP\n",
    "X_obfuscated = X @ P"
   ]
  },
  {
   "cell_type": "code",
   "execution_count": 59,
   "metadata": {},
   "outputs": [
    {
     "name": "stdout",
     "output_type": "stream",
     "text": [
      "Original DataFrame: RMSE = 0.3512077581960692 R2 score = 0.42494550286668\n",
      "Obfuscated DataFrame: RMSE = 0.3512077581960701 R2 score = 0.4249455028666771\n"
     ]
    },
    {
     "name": "stderr",
     "output_type": "stream",
     "text": [
      "/Users/lrw/anaconda3/lib/python3.11/site-packages/sklearn/metrics/_regression.py:492: FutureWarning: 'squared' is deprecated in version 1.4 and will be removed in 1.6. To calculate the root mean squared error, use the function'root_mean_squared_error'.\n",
      "  warnings.warn(\n",
      "/Users/lrw/anaconda3/lib/python3.11/site-packages/sklearn/metrics/_regression.py:492: FutureWarning: 'squared' is deprecated in version 1.4 and will be removed in 1.6. To calculate the root mean squared error, use the function'root_mean_squared_error'.\n",
      "  warnings.warn(\n"
     ]
    }
   ],
   "source": [
    "# Train the models\n",
    "model_original = LinearRegression().fit(X, y)\n",
    "model_obfuscated = LinearRegression().fit(X_obfuscated, y)\n",
    "\n",
    "# Predict\n",
    "y_pred_original = model_original.predict(X)\n",
    "y_pred_obfuscated = model_obfuscated.predict(X_obfuscated)\n",
    "\n",
    "# Accuracy metrics\n",
    "rmse_original = mean_squared_error(y, y_pred_original, squared=False)\n",
    "r2_original = r2_score(y, y_pred_original)\n",
    "\n",
    "rmse_obfuscated = mean_squared_error(y, y_pred_obfuscated, squared=False)\n",
    "r2_obfuscated = r2_score(y, y_pred_obfuscated)\n",
    "\n",
    "# Compare results\n",
    "print(\"Original DataFrame: RMSE =\", rmse_original, \"R2 score =\", r2_original)\n",
    "print(\"Obfuscated DataFrame: RMSE =\", rmse_obfuscated, \"R2 score =\", r2_obfuscated)\n"
   ]
  },
  {
   "cell_type": "code",
   "execution_count": 60,
   "metadata": {},
   "outputs": [],
   "source": [
    "# Compare model performance"
   ]
  },
  {
   "cell_type": "code",
   "execution_count": 61,
   "metadata": {},
   "outputs": [],
   "source": [
    "# Scatterplots"
   ]
  },
  {
   "cell_type": "markdown",
   "metadata": {},
   "source": [
    "##  Obfuscation Conclusions\n",
    "\n",
    "- RMSE and R2 scores are the same for both the original and obfuscated datasets proving this method works. "
   ]
  },
  {
   "cell_type": "markdown",
   "metadata": {},
   "source": [
    "# Overall Conclusions \n",
    "\n",
    "\n",
    "We explored the feasibility of using Machine Learning to support the Sure Tomorrow insurance company in several key areas: analyzing customer similarity, insurance benefit prediction, and the impact of adding data protection.\n",
    "\n",
    "Overall, this project demonstrates that machine learning can effectively address the company's needs, offering insights that can enhance marketing efforts, optimize benefit predictions, and improve data security. Future work could explore refining model performance, testing additional obfuscation methods, and expanding feature selection for more accurate predictions.\n",
    "\n",
    "Our solutions were proven by dividing the project into 4 tasks: \n",
    "\n",
    "- **Task 1: Customer similarity analysis**\n",
    "We examined ways to identify similar customers, finding that scaling the data led to a more balanced distribution across features (rather than being skewed by income). This enables the company to group customers more effectively based on shared characteristics.\n",
    "\n",
    "- **Task 2: Predicting insurance benefits**\n",
    "We assessed whether a model could accurately predict if a new customer would receive an insurance benefit. The results showed that a machine learning model outperformed a dummy model, proving its potential for aiding customer eligibility decisions.\n",
    "\n",
    "- **Task 3: Estimating the number of benefits**\n",
    "Using regression techniques, we estimated how many insurance benefits a new customer might receive. Our evaluation showed that scaling the data had no impact on prediction accuracy, highlighting the robustness of the approach. \n",
    "\n",
    "- **Task 4: Data obfuscation and privacy protection** \n",
    "We tested whether applying data obfuscation techniques could protect customer data without compromising model performance. The results confirmed that secure data transformation is possible while maintaining the effectiveness of the regression model, ensuring privacy without sacrificing predictive quality.\n",
    "\n",
    "This project successfully demonstrates that machine learning can be applied to improve business decision-making in the insurance industry while maintaining data security."
   ]
  },
  {
   "cell_type": "markdown",
   "metadata": {},
   "source": [
    "# Appendices \n",
    "\n",
    "## Appendix A: Writing Formulas in Jupyter Notebooks"
   ]
  },
  {
   "cell_type": "markdown",
   "metadata": {},
   "source": [
    "You can write formulas in your Jupyter Notebook in a markup language provided by a high-quality publishing system called $\\LaTeX$ (pronounced \"Lah-tech\"), and they will look like formulas in textbooks.\n",
    "\n",
    "To put a formula in a text, put the dollar sign (\\\\$) before and after the formula's text e.g. $\\frac{1}{2} \\times \\frac{3}{2} = \\frac{3}{4}$ or $y = x^2, x \\ge 1$.\n",
    "\n",
    "If a formula should be in its own paragraph, put the double dollar sign (\\\\$\\\\$) before and after the formula text e.g.\n",
    "\n",
    "$$\n",
    "\\bar{x} = \\frac{1}{n}\\sum_{i=1}^{n} x_i.\n",
    "$$\n",
    "\n",
    "The markup language of [LaTeX](https://en.wikipedia.org/wiki/LaTeX) is very popular among people who use formulas in their articles, books and texts. It can be complex but its basics are easy. Check this two page [cheatsheet](http://tug.ctan.org/info/undergradmath/undergradmath.pdf) for learning how to compose the most common formulas."
   ]
  },
  {
   "cell_type": "markdown",
   "metadata": {},
   "source": [
    "## Appendix B: Properties of Matrices"
   ]
  },
  {
   "cell_type": "markdown",
   "metadata": {},
   "source": [
    "Matrices have many properties in Linear Algebra. A few of them are listed here which can help with the analytical proof in this project."
   ]
  },
  {
   "cell_type": "markdown",
   "metadata": {},
   "source": [
    "<table>\n",
    "<tr>\n",
    "<td>Distributivity</td><td>$A(B+C)=AB+AC$</td>\n",
    "</tr>\n",
    "<tr>\n",
    "<td>Non-commutativity</td><td>$AB \\neq BA$</td>\n",
    "</tr>\n",
    "<tr>\n",
    "<td>Associative property of multiplication</td><td>$(AB)C = A(BC)$</td>\n",
    "</tr>\n",
    "<tr>\n",
    "<td>Multiplicative identity property</td><td>$IA = AI = A$</td>\n",
    "</tr>\n",
    "<tr>\n",
    "<td></td><td>$A^{-1}A = AA^{-1} = I$\n",
    "</td>\n",
    "</tr>    \n",
    "<tr>\n",
    "<td></td><td>$(AB)^{-1} = B^{-1}A^{-1}$</td>\n",
    "</tr>    \n",
    "<tr>\n",
    "<td>Reversivity of the transpose of a product of matrices,</td><td>$(AB)^T = B^TA^T$</td>\n",
    "</tr>    \n",
    "</table>"
   ]
  },
  {
   "cell_type": "code",
   "execution_count": null,
   "metadata": {},
   "outputs": [],
   "source": []
  }
 ],
 "metadata": {
  "ExecuteTimeLog": [
   {
    "duration": 3123,
    "start_time": "2025-02-20T23:18:23.286Z"
   },
   {
    "duration": 0,
    "start_time": "2025-02-20T23:18:26.413Z"
   },
   {
    "duration": 0,
    "start_time": "2025-02-20T23:18:26.414Z"
   },
   {
    "duration": 0,
    "start_time": "2025-02-20T23:18:26.415Z"
   },
   {
    "duration": 0,
    "start_time": "2025-02-20T23:18:26.416Z"
   },
   {
    "duration": 0,
    "start_time": "2025-02-20T23:18:26.417Z"
   },
   {
    "duration": 0,
    "start_time": "2025-02-20T23:18:26.432Z"
   },
   {
    "duration": 0,
    "start_time": "2025-02-20T23:18:26.433Z"
   },
   {
    "duration": 0,
    "start_time": "2025-02-20T23:18:26.435Z"
   },
   {
    "duration": 0,
    "start_time": "2025-02-20T23:18:26.436Z"
   },
   {
    "duration": 0,
    "start_time": "2025-02-20T23:18:26.437Z"
   },
   {
    "duration": 0,
    "start_time": "2025-02-20T23:18:26.439Z"
   },
   {
    "duration": 0,
    "start_time": "2025-02-20T23:18:26.440Z"
   },
   {
    "duration": 0,
    "start_time": "2025-02-20T23:18:26.441Z"
   },
   {
    "duration": 0,
    "start_time": "2025-02-20T23:18:26.443Z"
   },
   {
    "duration": 0,
    "start_time": "2025-02-20T23:18:26.444Z"
   },
   {
    "duration": 0,
    "start_time": "2025-02-20T23:18:26.445Z"
   },
   {
    "duration": 0,
    "start_time": "2025-02-20T23:18:26.446Z"
   },
   {
    "duration": 0,
    "start_time": "2025-02-20T23:18:26.448Z"
   },
   {
    "duration": 0,
    "start_time": "2025-02-20T23:18:26.449Z"
   },
   {
    "duration": 1,
    "start_time": "2025-02-20T23:18:26.450Z"
   },
   {
    "duration": 0,
    "start_time": "2025-02-20T23:18:26.452Z"
   },
   {
    "duration": 0,
    "start_time": "2025-02-20T23:18:26.453Z"
   },
   {
    "duration": 0,
    "start_time": "2025-02-20T23:18:26.455Z"
   },
   {
    "duration": 1,
    "start_time": "2025-02-20T23:18:26.456Z"
   },
   {
    "duration": 0,
    "start_time": "2025-02-20T23:18:26.458Z"
   },
   {
    "duration": 0,
    "start_time": "2025-02-20T23:18:26.459Z"
   },
   {
    "duration": 0,
    "start_time": "2025-02-20T23:18:26.460Z"
   },
   {
    "duration": 0,
    "start_time": "2025-02-20T23:18:26.461Z"
   },
   {
    "duration": 0,
    "start_time": "2025-02-20T23:18:26.463Z"
   },
   {
    "duration": 0,
    "start_time": "2025-02-20T23:18:26.464Z"
   },
   {
    "duration": 0,
    "start_time": "2025-02-20T23:18:26.465Z"
   },
   {
    "duration": 0,
    "start_time": "2025-02-20T23:18:26.466Z"
   },
   {
    "duration": 0,
    "start_time": "2025-02-20T23:18:26.468Z"
   },
   {
    "duration": 0,
    "start_time": "2025-02-20T23:18:26.469Z"
   },
   {
    "duration": 0,
    "start_time": "2025-02-20T23:18:26.470Z"
   },
   {
    "duration": 0,
    "start_time": "2025-02-20T23:18:26.472Z"
   },
   {
    "duration": 0,
    "start_time": "2025-02-20T23:18:26.473Z"
   },
   {
    "duration": 0,
    "start_time": "2025-02-20T23:18:26.474Z"
   },
   {
    "duration": 0,
    "start_time": "2025-02-20T23:18:26.475Z"
   },
   {
    "duration": 0,
    "start_time": "2025-02-20T23:18:26.475Z"
   },
   {
    "duration": 0,
    "start_time": "2025-02-20T23:18:26.476Z"
   },
   {
    "duration": 0,
    "start_time": "2025-02-20T23:18:26.476Z"
   },
   {
    "duration": 0,
    "start_time": "2025-02-20T23:18:26.477Z"
   },
   {
    "duration": 0,
    "start_time": "2025-02-20T23:18:26.477Z"
   },
   {
    "duration": 0,
    "start_time": "2025-02-20T23:18:26.478Z"
   },
   {
    "duration": 0,
    "start_time": "2025-02-20T23:18:26.532Z"
   },
   {
    "duration": 0,
    "start_time": "2025-02-20T23:18:26.533Z"
   },
   {
    "duration": 0,
    "start_time": "2025-02-20T23:18:26.534Z"
   },
   {
    "duration": 0,
    "start_time": "2025-02-20T23:18:26.535Z"
   },
   {
    "duration": 0,
    "start_time": "2025-02-20T23:18:26.537Z"
   },
   {
    "duration": 0,
    "start_time": "2025-02-20T23:18:26.538Z"
   },
   {
    "duration": 0,
    "start_time": "2025-02-20T23:18:26.540Z"
   },
   {
    "duration": 3046,
    "start_time": "2025-02-20T23:37:01.561Z"
   },
   {
    "duration": 9528,
    "start_time": "2025-02-20T23:39:59.513Z"
   },
   {
    "duration": 23,
    "start_time": "2025-02-20T23:40:09.044Z"
   },
   {
    "duration": 1502,
    "start_time": "2025-02-20T23:40:33.711Z"
   },
   {
    "duration": 1269,
    "start_time": "2025-02-20T23:40:35.217Z"
   },
   {
    "duration": 0,
    "start_time": "2025-02-20T23:40:36.490Z"
   },
   {
    "duration": 0,
    "start_time": "2025-02-20T23:40:36.492Z"
   },
   {
    "duration": 0,
    "start_time": "2025-02-20T23:40:36.493Z"
   },
   {
    "duration": 0,
    "start_time": "2025-02-20T23:40:36.495Z"
   },
   {
    "duration": 0,
    "start_time": "2025-02-20T23:40:36.496Z"
   },
   {
    "duration": 0,
    "start_time": "2025-02-20T23:40:36.498Z"
   },
   {
    "duration": 0,
    "start_time": "2025-02-20T23:40:36.499Z"
   },
   {
    "duration": 0,
    "start_time": "2025-02-20T23:40:36.500Z"
   },
   {
    "duration": 0,
    "start_time": "2025-02-20T23:40:36.501Z"
   },
   {
    "duration": 0,
    "start_time": "2025-02-20T23:40:36.502Z"
   },
   {
    "duration": 0,
    "start_time": "2025-02-20T23:40:36.525Z"
   },
   {
    "duration": 0,
    "start_time": "2025-02-20T23:40:36.526Z"
   },
   {
    "duration": 0,
    "start_time": "2025-02-20T23:40:36.528Z"
   },
   {
    "duration": 0,
    "start_time": "2025-02-20T23:40:36.529Z"
   },
   {
    "duration": 0,
    "start_time": "2025-02-20T23:40:36.530Z"
   },
   {
    "duration": 0,
    "start_time": "2025-02-20T23:40:36.531Z"
   },
   {
    "duration": 0,
    "start_time": "2025-02-20T23:40:36.532Z"
   },
   {
    "duration": 0,
    "start_time": "2025-02-20T23:40:36.534Z"
   },
   {
    "duration": 0,
    "start_time": "2025-02-20T23:40:36.535Z"
   },
   {
    "duration": 0,
    "start_time": "2025-02-20T23:40:36.537Z"
   },
   {
    "duration": 0,
    "start_time": "2025-02-20T23:40:36.539Z"
   },
   {
    "duration": 0,
    "start_time": "2025-02-20T23:40:36.540Z"
   },
   {
    "duration": 0,
    "start_time": "2025-02-20T23:40:36.542Z"
   },
   {
    "duration": 0,
    "start_time": "2025-02-20T23:40:36.544Z"
   },
   {
    "duration": 0,
    "start_time": "2025-02-20T23:40:36.545Z"
   },
   {
    "duration": 0,
    "start_time": "2025-02-20T23:40:36.547Z"
   },
   {
    "duration": 0,
    "start_time": "2025-02-20T23:40:36.548Z"
   },
   {
    "duration": 0,
    "start_time": "2025-02-20T23:40:36.549Z"
   },
   {
    "duration": 0,
    "start_time": "2025-02-20T23:40:36.550Z"
   },
   {
    "duration": 0,
    "start_time": "2025-02-20T23:40:36.551Z"
   },
   {
    "duration": 0,
    "start_time": "2025-02-20T23:40:36.552Z"
   },
   {
    "duration": 0,
    "start_time": "2025-02-20T23:40:36.553Z"
   },
   {
    "duration": 0,
    "start_time": "2025-02-20T23:40:36.555Z"
   },
   {
    "duration": 0,
    "start_time": "2025-02-20T23:40:36.556Z"
   },
   {
    "duration": 0,
    "start_time": "2025-02-20T23:40:36.557Z"
   },
   {
    "duration": 0,
    "start_time": "2025-02-20T23:40:36.558Z"
   },
   {
    "duration": 0,
    "start_time": "2025-02-20T23:40:36.560Z"
   },
   {
    "duration": 0,
    "start_time": "2025-02-20T23:40:36.562Z"
   },
   {
    "duration": 0,
    "start_time": "2025-02-20T23:40:36.563Z"
   },
   {
    "duration": 0,
    "start_time": "2025-02-20T23:40:36.625Z"
   },
   {
    "duration": 0,
    "start_time": "2025-02-20T23:40:36.626Z"
   },
   {
    "duration": 0,
    "start_time": "2025-02-20T23:40:36.627Z"
   },
   {
    "duration": 0,
    "start_time": "2025-02-20T23:40:36.629Z"
   },
   {
    "duration": 0,
    "start_time": "2025-02-20T23:40:36.630Z"
   },
   {
    "duration": 0,
    "start_time": "2025-02-20T23:40:36.631Z"
   },
   {
    "duration": 0,
    "start_time": "2025-02-20T23:40:36.632Z"
   },
   {
    "duration": 0,
    "start_time": "2025-02-20T23:40:36.633Z"
   },
   {
    "duration": 0,
    "start_time": "2025-02-20T23:40:36.634Z"
   },
   {
    "duration": 0,
    "start_time": "2025-02-20T23:40:36.635Z"
   },
   {
    "duration": 0,
    "start_time": "2025-02-20T23:40:36.636Z"
   },
   {
    "duration": 0,
    "start_time": "2025-02-20T23:40:36.638Z"
   },
   {
    "duration": 0,
    "start_time": "2025-02-20T23:40:36.639Z"
   },
   {
    "duration": 14,
    "start_time": "2025-02-20T23:41:07.049Z"
   },
   {
    "duration": 21,
    "start_time": "2025-02-20T23:41:52.068Z"
   },
   {
    "duration": 1250,
    "start_time": "2025-02-20T23:42:41.679Z"
   },
   {
    "duration": 20,
    "start_time": "2025-02-20T23:43:39.631Z"
   },
   {
    "duration": 22,
    "start_time": "2025-02-20T23:44:32.873Z"
   },
   {
    "duration": 11,
    "start_time": "2025-02-20T23:46:04.572Z"
   },
   {
    "duration": 3,
    "start_time": "2025-02-21T00:27:49.739Z"
   },
   {
    "duration": 438,
    "start_time": "2025-02-21T00:27:54.517Z"
   },
   {
    "duration": 1007,
    "start_time": "2025-02-21T00:32:12.652Z"
   },
   {
    "duration": 408,
    "start_time": "2025-02-21T00:32:13.661Z"
   },
   {
    "duration": 3,
    "start_time": "2025-02-21T00:32:14.071Z"
   },
   {
    "duration": 9,
    "start_time": "2025-02-21T00:32:14.078Z"
   },
   {
    "duration": 8,
    "start_time": "2025-02-21T00:32:14.089Z"
   },
   {
    "duration": 4,
    "start_time": "2025-02-21T00:32:14.098Z"
   },
   {
    "duration": 8,
    "start_time": "2025-02-21T00:32:14.103Z"
   },
   {
    "duration": 15,
    "start_time": "2025-02-21T00:32:14.113Z"
   },
   {
    "duration": 4,
    "start_time": "2025-02-21T00:32:14.130Z"
   },
   {
    "duration": 5,
    "start_time": "2025-02-21T00:32:14.138Z"
   },
   {
    "duration": 2521,
    "start_time": "2025-02-21T00:32:14.144Z"
   },
   {
    "duration": 3,
    "start_time": "2025-02-21T00:32:16.666Z"
   },
   {
    "duration": 4,
    "start_time": "2025-02-21T00:32:16.671Z"
   },
   {
    "duration": 9,
    "start_time": "2025-02-21T00:32:16.676Z"
   },
   {
    "duration": 7,
    "start_time": "2025-02-21T00:32:16.687Z"
   },
   {
    "duration": 3,
    "start_time": "2025-02-21T00:32:16.696Z"
   },
   {
    "duration": 31,
    "start_time": "2025-02-21T00:32:16.700Z"
   },
   {
    "duration": 11,
    "start_time": "2025-02-21T00:32:16.732Z"
   },
   {
    "duration": 18,
    "start_time": "2025-02-21T00:32:16.744Z"
   },
   {
    "duration": 18,
    "start_time": "2025-02-21T00:32:16.763Z"
   },
   {
    "duration": 48,
    "start_time": "2025-02-21T00:32:16.783Z"
   },
   {
    "duration": 3,
    "start_time": "2025-02-21T00:32:16.832Z"
   },
   {
    "duration": 6,
    "start_time": "2025-02-21T00:32:16.837Z"
   },
   {
    "duration": 6,
    "start_time": "2025-02-21T00:32:16.846Z"
   },
   {
    "duration": 2,
    "start_time": "2025-02-21T00:32:16.853Z"
   },
   {
    "duration": 7,
    "start_time": "2025-02-21T00:32:16.857Z"
   },
   {
    "duration": 13,
    "start_time": "2025-02-21T00:32:16.865Z"
   },
   {
    "duration": 3,
    "start_time": "2025-02-21T00:32:16.882Z"
   },
   {
    "duration": 39,
    "start_time": "2025-02-21T00:32:16.886Z"
   },
   {
    "duration": 4,
    "start_time": "2025-02-21T00:32:16.927Z"
   },
   {
    "duration": 294,
    "start_time": "2025-02-21T00:32:16.934Z"
   },
   {
    "duration": 3,
    "start_time": "2025-02-21T00:32:17.230Z"
   },
   {
    "duration": 47,
    "start_time": "2025-02-21T00:32:17.236Z"
   },
   {
    "duration": 4,
    "start_time": "2025-02-21T00:32:17.285Z"
   },
   {
    "duration": 3,
    "start_time": "2025-02-21T00:32:17.292Z"
   },
   {
    "duration": 35,
    "start_time": "2025-02-21T00:32:17.297Z"
   },
   {
    "duration": 7,
    "start_time": "2025-02-21T00:32:17.333Z"
   },
   {
    "duration": 4,
    "start_time": "2025-02-21T00:32:17.342Z"
   },
   {
    "duration": 3,
    "start_time": "2025-02-21T00:32:17.347Z"
   },
   {
    "duration": 74,
    "start_time": "2025-02-21T00:32:17.351Z"
   },
   {
    "duration": 4,
    "start_time": "2025-02-21T00:32:17.427Z"
   },
   {
    "duration": 3,
    "start_time": "2025-02-21T00:32:17.433Z"
   },
   {
    "duration": 4,
    "start_time": "2025-02-21T00:32:17.438Z"
   },
   {
    "duration": 2,
    "start_time": "2025-02-21T00:32:17.443Z"
   },
   {
    "duration": 87,
    "start_time": "2025-02-21T00:32:17.447Z"
   },
   {
    "duration": 11,
    "start_time": "2025-02-21T00:32:17.535Z"
   },
   {
    "duration": 8,
    "start_time": "2025-02-21T00:32:17.548Z"
   },
   {
    "duration": 3,
    "start_time": "2025-02-21T00:32:17.558Z"
   },
   {
    "duration": 62,
    "start_time": "2025-02-21T00:32:17.563Z"
   },
   {
    "duration": 4,
    "start_time": "2025-02-21T00:32:17.627Z"
   },
   {
    "duration": 12,
    "start_time": "2025-02-21T00:32:17.634Z"
   },
   {
    "duration": 9,
    "start_time": "2025-02-21T00:32:17.647Z"
   },
   {
    "duration": 12,
    "start_time": "2025-02-21T00:32:17.730Z"
   },
   {
    "duration": 1128,
    "start_time": "2025-02-21T00:34:50.382Z"
   },
   {
    "duration": 387,
    "start_time": "2025-02-21T00:34:51.512Z"
   },
   {
    "duration": 4,
    "start_time": "2025-02-21T00:34:51.901Z"
   },
   {
    "duration": 16,
    "start_time": "2025-02-21T00:34:51.907Z"
   },
   {
    "duration": 12,
    "start_time": "2025-02-21T00:34:51.926Z"
   },
   {
    "duration": 3,
    "start_time": "2025-02-21T00:34:51.940Z"
   },
   {
    "duration": 12,
    "start_time": "2025-02-21T00:34:51.945Z"
   },
   {
    "duration": 19,
    "start_time": "2025-02-21T00:34:51.960Z"
   },
   {
    "duration": 4,
    "start_time": "2025-02-21T00:34:51.981Z"
   },
   {
    "duration": 38,
    "start_time": "2025-02-21T00:34:51.988Z"
   },
   {
    "duration": 2681,
    "start_time": "2025-02-21T00:34:52.028Z"
   },
   {
    "duration": 2,
    "start_time": "2025-02-21T00:34:54.711Z"
   },
   {
    "duration": 5,
    "start_time": "2025-02-21T00:34:54.715Z"
   },
   {
    "duration": 9,
    "start_time": "2025-02-21T00:34:54.721Z"
   },
   {
    "duration": 8,
    "start_time": "2025-02-21T00:34:54.731Z"
   },
   {
    "duration": 4,
    "start_time": "2025-02-21T00:34:54.742Z"
   },
   {
    "duration": 12,
    "start_time": "2025-02-21T00:34:54.748Z"
   },
   {
    "duration": 11,
    "start_time": "2025-02-21T00:34:54.762Z"
   },
   {
    "duration": 18,
    "start_time": "2025-02-21T00:34:54.775Z"
   },
   {
    "duration": 20,
    "start_time": "2025-02-21T00:34:54.825Z"
   },
   {
    "duration": 28,
    "start_time": "2025-02-21T00:34:54.847Z"
   },
   {
    "duration": 3,
    "start_time": "2025-02-21T00:34:54.877Z"
   },
   {
    "duration": 4,
    "start_time": "2025-02-21T00:34:54.883Z"
   },
   {
    "duration": 5,
    "start_time": "2025-02-21T00:34:54.889Z"
   },
   {
    "duration": 2,
    "start_time": "2025-02-21T00:34:54.924Z"
   },
   {
    "duration": 6,
    "start_time": "2025-02-21T00:34:54.928Z"
   },
   {
    "duration": 14,
    "start_time": "2025-02-21T00:34:54.936Z"
   },
   {
    "duration": 3,
    "start_time": "2025-02-21T00:34:54.955Z"
   },
   {
    "duration": 3,
    "start_time": "2025-02-21T00:34:54.960Z"
   },
   {
    "duration": 2,
    "start_time": "2025-02-21T00:34:54.966Z"
   },
   {
    "duration": 322,
    "start_time": "2025-02-21T00:34:54.969Z"
   },
   {
    "duration": 4,
    "start_time": "2025-02-21T00:34:55.293Z"
   },
   {
    "duration": 59,
    "start_time": "2025-02-21T00:34:55.298Z"
   },
   {
    "duration": 4,
    "start_time": "2025-02-21T00:34:55.359Z"
   },
   {
    "duration": 3,
    "start_time": "2025-02-21T00:34:55.365Z"
   },
   {
    "duration": 10,
    "start_time": "2025-02-21T00:34:55.370Z"
   },
   {
    "duration": 48,
    "start_time": "2025-02-21T00:34:55.383Z"
   },
   {
    "duration": 4,
    "start_time": "2025-02-21T00:34:55.433Z"
   },
   {
    "duration": 3,
    "start_time": "2025-02-21T00:34:55.439Z"
   },
   {
    "duration": 3,
    "start_time": "2025-02-21T00:34:55.443Z"
   },
   {
    "duration": 80,
    "start_time": "2025-02-21T00:34:55.448Z"
   },
   {
    "duration": 5,
    "start_time": "2025-02-21T00:34:55.530Z"
   },
   {
    "duration": 4,
    "start_time": "2025-02-21T00:34:55.537Z"
   },
   {
    "duration": 4,
    "start_time": "2025-02-21T00:34:55.543Z"
   },
   {
    "duration": 77,
    "start_time": "2025-02-21T00:34:55.549Z"
   },
   {
    "duration": 9,
    "start_time": "2025-02-21T00:34:55.629Z"
   },
   {
    "duration": 8,
    "start_time": "2025-02-21T00:34:55.640Z"
   },
   {
    "duration": 3,
    "start_time": "2025-02-21T00:34:55.650Z"
   },
   {
    "duration": 68,
    "start_time": "2025-02-21T00:34:55.657Z"
   },
   {
    "duration": 5,
    "start_time": "2025-02-21T00:34:55.730Z"
   },
   {
    "duration": 87,
    "start_time": "2025-02-21T00:34:55.737Z"
   },
   {
    "duration": 6,
    "start_time": "2025-02-21T00:34:55.827Z"
   },
   {
    "duration": 8,
    "start_time": "2025-02-21T00:34:55.835Z"
   },
   {
    "duration": 2654,
    "start_time": "2025-02-21T12:54:12.415Z"
   },
   {
    "duration": 440,
    "start_time": "2025-02-21T12:54:15.072Z"
   },
   {
    "duration": 3,
    "start_time": "2025-02-21T12:54:15.514Z"
   },
   {
    "duration": 10,
    "start_time": "2025-02-21T12:54:15.519Z"
   },
   {
    "duration": 9,
    "start_time": "2025-02-21T12:54:15.531Z"
   },
   {
    "duration": 3,
    "start_time": "2025-02-21T12:54:15.541Z"
   },
   {
    "duration": 7,
    "start_time": "2025-02-21T12:54:15.546Z"
   },
   {
    "duration": 16,
    "start_time": "2025-02-21T12:54:15.554Z"
   },
   {
    "duration": 38,
    "start_time": "2025-02-21T12:54:15.572Z"
   },
   {
    "duration": 5,
    "start_time": "2025-02-21T12:54:15.612Z"
   },
   {
    "duration": 2608,
    "start_time": "2025-02-21T12:54:15.618Z"
   },
   {
    "duration": 3,
    "start_time": "2025-02-21T12:54:18.227Z"
   },
   {
    "duration": 4,
    "start_time": "2025-02-21T12:54:18.232Z"
   },
   {
    "duration": 9,
    "start_time": "2025-02-21T12:54:18.312Z"
   },
   {
    "duration": 8,
    "start_time": "2025-02-21T12:54:18.323Z"
   },
   {
    "duration": 3,
    "start_time": "2025-02-21T12:54:18.332Z"
   },
   {
    "duration": 10,
    "start_time": "2025-02-21T12:54:18.336Z"
   },
   {
    "duration": 10,
    "start_time": "2025-02-21T12:54:18.348Z"
   },
   {
    "duration": 19,
    "start_time": "2025-02-21T12:54:18.360Z"
   },
   {
    "duration": 18,
    "start_time": "2025-02-21T12:54:18.410Z"
   },
   {
    "duration": 25,
    "start_time": "2025-02-21T12:54:18.430Z"
   },
   {
    "duration": 3,
    "start_time": "2025-02-21T12:54:18.458Z"
   },
   {
    "duration": 6,
    "start_time": "2025-02-21T12:54:18.462Z"
   },
   {
    "duration": 5,
    "start_time": "2025-02-21T12:54:18.471Z"
   },
   {
    "duration": 3,
    "start_time": "2025-02-21T12:54:18.477Z"
   },
   {
    "duration": 5,
    "start_time": "2025-02-21T12:54:18.510Z"
   },
   {
    "duration": 12,
    "start_time": "2025-02-21T12:54:18.518Z"
   },
   {
    "duration": 3,
    "start_time": "2025-02-21T12:54:18.531Z"
   },
   {
    "duration": 3,
    "start_time": "2025-02-21T12:54:18.535Z"
   },
   {
    "duration": 3,
    "start_time": "2025-02-21T12:54:18.540Z"
   },
   {
    "duration": 319,
    "start_time": "2025-02-21T12:54:18.545Z"
   },
   {
    "duration": 3,
    "start_time": "2025-02-21T12:54:18.865Z"
   },
   {
    "duration": 58,
    "start_time": "2025-02-21T12:54:18.870Z"
   },
   {
    "duration": 4,
    "start_time": "2025-02-21T12:54:18.930Z"
   },
   {
    "duration": 3,
    "start_time": "2025-02-21T12:54:18.936Z"
   },
   {
    "duration": 8,
    "start_time": "2025-02-21T12:54:18.941Z"
   },
   {
    "duration": 61,
    "start_time": "2025-02-21T12:54:18.950Z"
   },
   {
    "duration": 3,
    "start_time": "2025-02-21T12:54:19.013Z"
   },
   {
    "duration": 3,
    "start_time": "2025-02-21T12:54:19.017Z"
   },
   {
    "duration": 3,
    "start_time": "2025-02-21T12:54:19.022Z"
   },
   {
    "duration": 81,
    "start_time": "2025-02-21T12:54:19.031Z"
   },
   {
    "duration": 4,
    "start_time": "2025-02-21T12:54:19.113Z"
   },
   {
    "duration": 4,
    "start_time": "2025-02-21T12:54:19.118Z"
   },
   {
    "duration": 2,
    "start_time": "2025-02-21T12:54:19.124Z"
   },
   {
    "duration": 4,
    "start_time": "2025-02-21T12:54:19.127Z"
   },
   {
    "duration": 78,
    "start_time": "2025-02-21T12:54:19.132Z"
   },
   {
    "duration": 9,
    "start_time": "2025-02-21T12:54:19.211Z"
   },
   {
    "duration": 2,
    "start_time": "2025-02-21T12:54:19.222Z"
   },
   {
    "duration": 3,
    "start_time": "2025-02-21T12:54:19.226Z"
   },
   {
    "duration": 3,
    "start_time": "2025-02-21T12:54:19.230Z"
   },
   {
    "duration": 84,
    "start_time": "2025-02-21T12:54:19.235Z"
   },
   {
    "duration": 5,
    "start_time": "2025-02-21T12:54:19.323Z"
   },
   {
    "duration": 81,
    "start_time": "2025-02-21T12:54:19.330Z"
   },
   {
    "duration": 3,
    "start_time": "2025-02-21T13:04:04.099Z"
   },
   {
    "duration": 403,
    "start_time": "2025-02-21T13:04:04.105Z"
   },
   {
    "duration": 4,
    "start_time": "2025-02-21T13:04:04.510Z"
   },
   {
    "duration": 9,
    "start_time": "2025-02-21T13:04:04.515Z"
   },
   {
    "duration": 8,
    "start_time": "2025-02-21T13:04:04.526Z"
   },
   {
    "duration": 3,
    "start_time": "2025-02-21T13:04:04.535Z"
   },
   {
    "duration": 8,
    "start_time": "2025-02-21T13:04:04.539Z"
   },
   {
    "duration": 17,
    "start_time": "2025-02-21T13:04:04.550Z"
   },
   {
    "duration": 4,
    "start_time": "2025-02-21T13:04:04.568Z"
   },
   {
    "duration": 6,
    "start_time": "2025-02-21T13:04:04.609Z"
   },
   {
    "duration": 2603,
    "start_time": "2025-02-21T13:04:04.617Z"
   },
   {
    "duration": 2,
    "start_time": "2025-02-21T13:04:07.222Z"
   },
   {
    "duration": 3,
    "start_time": "2025-02-21T13:04:07.226Z"
   },
   {
    "duration": 8,
    "start_time": "2025-02-21T13:04:07.233Z"
   },
   {
    "duration": 9,
    "start_time": "2025-02-21T13:04:07.242Z"
   },
   {
    "duration": 3,
    "start_time": "2025-02-21T13:04:07.252Z"
   },
   {
    "duration": 11,
    "start_time": "2025-02-21T13:04:07.256Z"
   },
   {
    "duration": 49,
    "start_time": "2025-02-21T13:04:07.269Z"
   },
   {
    "duration": 21,
    "start_time": "2025-02-21T13:04:07.320Z"
   },
   {
    "duration": 18,
    "start_time": "2025-02-21T13:04:07.343Z"
   },
   {
    "duration": 47,
    "start_time": "2025-02-21T13:04:07.364Z"
   },
   {
    "duration": 3,
    "start_time": "2025-02-21T13:04:07.412Z"
   },
   {
    "duration": 6,
    "start_time": "2025-02-21T13:04:07.417Z"
   },
   {
    "duration": 5,
    "start_time": "2025-02-21T13:04:07.426Z"
   },
   {
    "duration": 3,
    "start_time": "2025-02-21T13:04:07.432Z"
   },
   {
    "duration": 5,
    "start_time": "2025-02-21T13:04:07.437Z"
   },
   {
    "duration": 13,
    "start_time": "2025-02-21T13:04:07.443Z"
   },
   {
    "duration": 3,
    "start_time": "2025-02-21T13:04:07.457Z"
   },
   {
    "duration": 3,
    "start_time": "2025-02-21T13:04:07.462Z"
   },
   {
    "duration": 44,
    "start_time": "2025-02-21T13:04:07.466Z"
   },
   {
    "duration": 305,
    "start_time": "2025-02-21T13:04:07.512Z"
   },
   {
    "duration": 3,
    "start_time": "2025-02-21T13:04:07.820Z"
   },
   {
    "duration": 46,
    "start_time": "2025-02-21T13:04:07.825Z"
   },
   {
    "duration": 4,
    "start_time": "2025-02-21T13:04:07.873Z"
   },
   {
    "duration": 3,
    "start_time": "2025-02-21T13:04:07.880Z"
   },
   {
    "duration": 31,
    "start_time": "2025-02-21T13:04:07.885Z"
   },
   {
    "duration": 8,
    "start_time": "2025-02-21T13:04:07.918Z"
   },
   {
    "duration": 3,
    "start_time": "2025-02-21T13:04:07.928Z"
   },
   {
    "duration": 2,
    "start_time": "2025-02-21T13:04:07.933Z"
   },
   {
    "duration": 72,
    "start_time": "2025-02-21T13:04:07.937Z"
   },
   {
    "duration": 4,
    "start_time": "2025-02-21T13:04:08.015Z"
   },
   {
    "duration": 5,
    "start_time": "2025-02-21T13:04:08.020Z"
   },
   {
    "duration": 4,
    "start_time": "2025-02-21T13:04:08.026Z"
   },
   {
    "duration": 2,
    "start_time": "2025-02-21T13:04:08.031Z"
   },
   {
    "duration": 6,
    "start_time": "2025-02-21T13:04:08.108Z"
   },
   {
    "duration": 8,
    "start_time": "2025-02-21T13:04:08.116Z"
   },
   {
    "duration": 11,
    "start_time": "2025-02-21T13:04:08.125Z"
   },
   {
    "duration": 72,
    "start_time": "2025-02-21T13:04:08.138Z"
   },
   {
    "duration": 4,
    "start_time": "2025-02-21T13:04:08.214Z"
   },
   {
    "duration": 5,
    "start_time": "2025-02-21T13:04:08.220Z"
   },
   {
    "duration": 84,
    "start_time": "2025-02-21T13:04:08.227Z"
   },
   {
    "duration": 6,
    "start_time": "2025-02-21T13:04:08.313Z"
   },
   {
    "duration": 8,
    "start_time": "2025-02-21T13:04:08.321Z"
   },
   {
    "duration": 6,
    "start_time": "2025-02-21T13:12:55.735Z"
   }
  ],
  "kernelspec": {
   "display_name": "Python 3 (ipykernel)",
   "language": "python",
   "name": "python3"
  },
  "language_info": {
   "codemirror_mode": {
    "name": "ipython",
    "version": 3
   },
   "file_extension": ".py",
   "mimetype": "text/x-python",
   "name": "python",
   "nbconvert_exporter": "python",
   "pygments_lexer": "ipython3",
   "version": "3.11.8"
  },
  "toc": {
   "base_numbering": 1,
   "nav_menu": {},
   "number_sections": true,
   "sideBar": true,
   "skip_h1_title": true,
   "title_cell": "Table of Contents",
   "title_sidebar": "Contents",
   "toc_cell": false,
   "toc_position": {
    "height": "calc(100% - 180px)",
    "left": "10px",
    "top": "150px",
    "width": "192px"
   },
   "toc_section_display": true,
   "toc_window_display": true
  }
 },
 "nbformat": 4,
 "nbformat_minor": 4
}
